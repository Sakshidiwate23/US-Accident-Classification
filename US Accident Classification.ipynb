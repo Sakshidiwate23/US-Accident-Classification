{
 "cells": [
  {
   "cell_type": "code",
   "execution_count": 2,
   "id": "39d8ee77",
   "metadata": {},
   "outputs": [],
   "source": [
    "import numpy as np\n",
    "import pandas as pd\n",
    "import seaborn as sns\n",
    "import datetime as dt\n",
    "from sqlalchemy import create_engine, text\n",
    "from sklearn.preprocessing import LabelEncoder\n"
   ]
  },
  {
   "cell_type": "code",
   "execution_count": 3,
   "id": "0d4a7a55",
   "metadata": {},
   "outputs": [
    {
     "name": "stdout",
     "output_type": "stream",
     "text": [
      "Requirement already satisfied: flask_sqlalchemy in c:\\users\\om sairam\\appdata\\local\\programs\\python\\python310\\lib\\site-packages (3.0.3)\n",
      "Requirement already satisfied: SQLAlchemy>=1.4.18 in c:\\users\\om sairam\\appdata\\local\\programs\\python\\python310\\lib\\site-packages (from flask_sqlalchemy) (2.0.14)\n",
      "Requirement already satisfied: Flask>=2.2 in c:\\users\\om sairam\\appdata\\local\\programs\\python\\python310\\lib\\site-packages (from flask_sqlalchemy) (2.3.2)\n",
      "Requirement already satisfied: click>=8.1.3 in c:\\users\\om sairam\\appdata\\local\\programs\\python\\python310\\lib\\site-packages (from Flask>=2.2->flask_sqlalchemy) (8.1.3)\n",
      "Requirement already satisfied: Jinja2>=3.1.2 in c:\\users\\om sairam\\appdata\\local\\programs\\python\\python310\\lib\\site-packages (from Flask>=2.2->flask_sqlalchemy) (3.1.2)\n",
      "Requirement already satisfied: itsdangerous>=2.1.2 in c:\\users\\om sairam\\appdata\\local\\programs\\python\\python310\\lib\\site-packages (from Flask>=2.2->flask_sqlalchemy) (2.1.2)\n",
      "Requirement already satisfied: blinker>=1.6.2 in c:\\users\\om sairam\\appdata\\local\\programs\\python\\python310\\lib\\site-packages (from Flask>=2.2->flask_sqlalchemy) (1.6.2)\n",
      "Requirement already satisfied: Werkzeug>=2.3.3 in c:\\users\\om sairam\\appdata\\local\\programs\\python\\python310\\lib\\site-packages (from Flask>=2.2->flask_sqlalchemy) (2.3.4)\n",
      "Requirement already satisfied: greenlet!=0.4.17 in c:\\users\\om sairam\\appdata\\local\\programs\\python\\python310\\lib\\site-packages (from SQLAlchemy>=1.4.18->flask_sqlalchemy) (2.0.2)\n",
      "Requirement already satisfied: typing-extensions>=4.2.0 in c:\\users\\om sairam\\appdata\\local\\programs\\python\\python310\\lib\\site-packages (from SQLAlchemy>=1.4.18->flask_sqlalchemy) (4.4.0)\n",
      "Requirement already satisfied: colorama in c:\\users\\om sairam\\appdata\\local\\programs\\python\\python310\\lib\\site-packages (from click>=8.1.3->Flask>=2.2->flask_sqlalchemy) (0.4.4)\n",
      "Requirement already satisfied: MarkupSafe>=2.0 in c:\\users\\om sairam\\appdata\\local\\programs\\python\\python310\\lib\\site-packages (from Jinja2>=3.1.2->Flask>=2.2->flask_sqlalchemy) (2.1.1)\n",
      "Note: you may need to restart the kernel to use updated packages.\n"
     ]
    },
    {
     "name": "stderr",
     "output_type": "stream",
     "text": [
      "WARNING: Ignoring invalid distribution -atplotlib (c:\\users\\om sairam\\appdata\\local\\programs\\python\\python310\\lib\\site-packages)\n",
      "WARNING: Ignoring invalid distribution -atplotlib (c:\\users\\om sairam\\appdata\\local\\programs\\python\\python310\\lib\\site-packages)\n",
      "WARNING: Ignoring invalid distribution -atplotlib (c:\\users\\om sairam\\appdata\\local\\programs\\python\\python310\\lib\\site-packages)\n",
      "WARNING: Ignoring invalid distribution -atplotlib (c:\\users\\om sairam\\appdata\\local\\programs\\python\\python310\\lib\\site-packages)\n",
      "WARNING: Ignoring invalid distribution -atplotlib (c:\\users\\om sairam\\appdata\\local\\programs\\python\\python310\\lib\\site-packages)\n",
      "WARNING: Ignoring invalid distribution -atplotlib (c:\\users\\om sairam\\appdata\\local\\programs\\python\\python310\\lib\\site-packages)\n",
      "WARNING: You are using pip version 22.0.4; however, version 23.1.2 is available.\n",
      "You should consider upgrading via the 'C:\\Users\\Om SaiRam\\AppData\\Local\\Programs\\Python\\Python310\\python.exe -m pip install --upgrade pip' command.\n"
     ]
    }
   ],
   "source": [
    "pip install flask_sqlalchemy"
   ]
  },
  {
   "cell_type": "code",
   "execution_count": 4,
   "id": "ba5671b3",
   "metadata": {},
   "outputs": [],
   "source": [
    "import sqlalchemy\n",
    "import pymysql\n",
    "from sqlalchemy import create_engine, text\n",
    "import mysql.connector"
   ]
  },
  {
   "cell_type": "code",
   "execution_count": 64,
   "id": "29fb58e3",
   "metadata": {},
   "outputs": [],
   "source": [
    "username = \"root\"\n",
    "password = \"\"\n",
    "host = \"localhost:3306\"\n",
    "database = \"us_accident\"\n",
    "engine = sqlalchemy.create_engine(\"mysql+mysqlconnector://{0}:{1}@{2}/{3}\".format(username, password, host, database))"
   ]
  },
  {
   "cell_type": "code",
   "execution_count": 6,
   "id": "a2466a43",
   "metadata": {},
   "outputs": [],
   "source": [
    "data = pd.read_csv(\"C:/Users/Om SaiRam/Desktop/Sai/archive/US_Accidents.csv\")"
   ]
  },
  {
   "cell_type": "code",
   "execution_count": 8,
   "id": "dc507695",
   "metadata": {},
   "outputs": [
    {
     "data": {
      "text/html": [
       "<div>\n",
       "<style scoped>\n",
       "    .dataframe tbody tr th:only-of-type {\n",
       "        vertical-align: middle;\n",
       "    }\n",
       "\n",
       "    .dataframe tbody tr th {\n",
       "        vertical-align: top;\n",
       "    }\n",
       "\n",
       "    .dataframe thead th {\n",
       "        text-align: right;\n",
       "    }\n",
       "</style>\n",
       "<table border=\"1\" class=\"dataframe\">\n",
       "  <thead>\n",
       "    <tr style=\"text-align: right;\">\n",
       "      <th></th>\n",
       "      <th>ID</th>\n",
       "      <th>Severity</th>\n",
       "      <th>Start_Time</th>\n",
       "      <th>End_Time</th>\n",
       "      <th>Start_Lat</th>\n",
       "      <th>Start_Lng</th>\n",
       "      <th>End_Lat</th>\n",
       "      <th>End_Lng</th>\n",
       "      <th>Distance(mi)</th>\n",
       "      <th>Description</th>\n",
       "      <th>...</th>\n",
       "      <th>Roundabout</th>\n",
       "      <th>Station</th>\n",
       "      <th>Stop</th>\n",
       "      <th>Traffic_Calming</th>\n",
       "      <th>Traffic_Signal</th>\n",
       "      <th>Turning_Loop</th>\n",
       "      <th>Sunrise_Sunset</th>\n",
       "      <th>Civil_Twilight</th>\n",
       "      <th>Nautical_Twilight</th>\n",
       "      <th>Astronomical_Twilight</th>\n",
       "    </tr>\n",
       "  </thead>\n",
       "  <tbody>\n",
       "    <tr>\n",
       "      <th>0</th>\n",
       "      <td>A-1</td>\n",
       "      <td>3</td>\n",
       "      <td>2016-02-08 00:37:08</td>\n",
       "      <td>2016-02-08 06:37:08</td>\n",
       "      <td>40.108910</td>\n",
       "      <td>-83.092860</td>\n",
       "      <td>40.112060</td>\n",
       "      <td>-83.031870</td>\n",
       "      <td>3.230</td>\n",
       "      <td>Between Sawmill Rd/Exit 20 and OH-315/Olentang...</td>\n",
       "      <td>...</td>\n",
       "      <td>False</td>\n",
       "      <td>False</td>\n",
       "      <td>False</td>\n",
       "      <td>False</td>\n",
       "      <td>False</td>\n",
       "      <td>False</td>\n",
       "      <td>Night</td>\n",
       "      <td>Night</td>\n",
       "      <td>Night</td>\n",
       "      <td>Night</td>\n",
       "    </tr>\n",
       "    <tr>\n",
       "      <th>1</th>\n",
       "      <td>A-2</td>\n",
       "      <td>2</td>\n",
       "      <td>2016-02-08 05:56:20</td>\n",
       "      <td>2016-02-08 11:56:20</td>\n",
       "      <td>39.865420</td>\n",
       "      <td>-84.062800</td>\n",
       "      <td>39.865010</td>\n",
       "      <td>-84.048730</td>\n",
       "      <td>0.747</td>\n",
       "      <td>At OH-4/OH-235/Exit 41 - Accident.</td>\n",
       "      <td>...</td>\n",
       "      <td>False</td>\n",
       "      <td>False</td>\n",
       "      <td>False</td>\n",
       "      <td>False</td>\n",
       "      <td>False</td>\n",
       "      <td>False</td>\n",
       "      <td>Night</td>\n",
       "      <td>Night</td>\n",
       "      <td>Night</td>\n",
       "      <td>Night</td>\n",
       "    </tr>\n",
       "    <tr>\n",
       "      <th>2</th>\n",
       "      <td>A-3</td>\n",
       "      <td>2</td>\n",
       "      <td>2016-02-08 06:15:39</td>\n",
       "      <td>2016-02-08 12:15:39</td>\n",
       "      <td>39.102660</td>\n",
       "      <td>-84.524680</td>\n",
       "      <td>39.102090</td>\n",
       "      <td>-84.523960</td>\n",
       "      <td>0.055</td>\n",
       "      <td>At I-71/US-50/Exit 1 - Accident.</td>\n",
       "      <td>...</td>\n",
       "      <td>False</td>\n",
       "      <td>False</td>\n",
       "      <td>False</td>\n",
       "      <td>False</td>\n",
       "      <td>False</td>\n",
       "      <td>False</td>\n",
       "      <td>Night</td>\n",
       "      <td>Night</td>\n",
       "      <td>Night</td>\n",
       "      <td>Day</td>\n",
       "    </tr>\n",
       "    <tr>\n",
       "      <th>3</th>\n",
       "      <td>A-4</td>\n",
       "      <td>2</td>\n",
       "      <td>2016-02-08 06:51:45</td>\n",
       "      <td>2016-02-08 12:51:45</td>\n",
       "      <td>41.062130</td>\n",
       "      <td>-81.537840</td>\n",
       "      <td>41.062170</td>\n",
       "      <td>-81.535470</td>\n",
       "      <td>0.123</td>\n",
       "      <td>At Dart Ave/Exit 21 - Accident.</td>\n",
       "      <td>...</td>\n",
       "      <td>False</td>\n",
       "      <td>False</td>\n",
       "      <td>False</td>\n",
       "      <td>False</td>\n",
       "      <td>False</td>\n",
       "      <td>False</td>\n",
       "      <td>Night</td>\n",
       "      <td>Night</td>\n",
       "      <td>Day</td>\n",
       "      <td>Day</td>\n",
       "    </tr>\n",
       "    <tr>\n",
       "      <th>4</th>\n",
       "      <td>A-5</td>\n",
       "      <td>3</td>\n",
       "      <td>2016-02-08 07:53:43</td>\n",
       "      <td>2016-02-08 13:53:43</td>\n",
       "      <td>39.172393</td>\n",
       "      <td>-84.492792</td>\n",
       "      <td>39.170476</td>\n",
       "      <td>-84.501798</td>\n",
       "      <td>0.500</td>\n",
       "      <td>At Mitchell Ave/Exit 6 - Accident.</td>\n",
       "      <td>...</td>\n",
       "      <td>False</td>\n",
       "      <td>False</td>\n",
       "      <td>False</td>\n",
       "      <td>False</td>\n",
       "      <td>False</td>\n",
       "      <td>False</td>\n",
       "      <td>Day</td>\n",
       "      <td>Day</td>\n",
       "      <td>Day</td>\n",
       "      <td>Day</td>\n",
       "    </tr>\n",
       "  </tbody>\n",
       "</table>\n",
       "<p>5 rows × 47 columns</p>\n",
       "</div>"
      ],
      "text/plain": [
       "    ID  Severity           Start_Time             End_Time  Start_Lat  \\\n",
       "0  A-1         3  2016-02-08 00:37:08  2016-02-08 06:37:08  40.108910   \n",
       "1  A-2         2  2016-02-08 05:56:20  2016-02-08 11:56:20  39.865420   \n",
       "2  A-3         2  2016-02-08 06:15:39  2016-02-08 12:15:39  39.102660   \n",
       "3  A-4         2  2016-02-08 06:51:45  2016-02-08 12:51:45  41.062130   \n",
       "4  A-5         3  2016-02-08 07:53:43  2016-02-08 13:53:43  39.172393   \n",
       "\n",
       "   Start_Lng    End_Lat    End_Lng  Distance(mi)  \\\n",
       "0 -83.092860  40.112060 -83.031870         3.230   \n",
       "1 -84.062800  39.865010 -84.048730         0.747   \n",
       "2 -84.524680  39.102090 -84.523960         0.055   \n",
       "3 -81.537840  41.062170 -81.535470         0.123   \n",
       "4 -84.492792  39.170476 -84.501798         0.500   \n",
       "\n",
       "                                         Description  ...  Roundabout Station  \\\n",
       "0  Between Sawmill Rd/Exit 20 and OH-315/Olentang...  ...       False   False   \n",
       "1                 At OH-4/OH-235/Exit 41 - Accident.  ...       False   False   \n",
       "2                   At I-71/US-50/Exit 1 - Accident.  ...       False   False   \n",
       "3                    At Dart Ave/Exit 21 - Accident.  ...       False   False   \n",
       "4                 At Mitchell Ave/Exit 6 - Accident.  ...       False   False   \n",
       "\n",
       "    Stop Traffic_Calming Traffic_Signal Turning_Loop Sunrise_Sunset  \\\n",
       "0  False           False          False        False          Night   \n",
       "1  False           False          False        False          Night   \n",
       "2  False           False          False        False          Night   \n",
       "3  False           False          False        False          Night   \n",
       "4  False           False          False        False            Day   \n",
       "\n",
       "  Civil_Twilight Nautical_Twilight Astronomical_Twilight  \n",
       "0          Night             Night                 Night  \n",
       "1          Night             Night                 Night  \n",
       "2          Night             Night                   Day  \n",
       "3          Night               Day                   Day  \n",
       "4            Day               Day                   Day  \n",
       "\n",
       "[5 rows x 47 columns]"
      ]
     },
     "execution_count": 8,
     "metadata": {},
     "output_type": "execute_result"
    }
   ],
   "source": [
    "data.head()"
   ]
  },
  {
   "cell_type": "code",
   "execution_count": 9,
   "id": "3ad05ed9",
   "metadata": {},
   "outputs": [
    {
     "name": "stdout",
     "output_type": "stream",
     "text": [
      "<class 'pandas.core.frame.DataFrame'>\n",
      "RangeIndex: 2845342 entries, 0 to 2845341\n",
      "Data columns (total 47 columns):\n",
      " #   Column                 Dtype  \n",
      "---  ------                 -----  \n",
      " 0   ID                     object \n",
      " 1   Severity               int64  \n",
      " 2   Start_Time             object \n",
      " 3   End_Time               object \n",
      " 4   Start_Lat              float64\n",
      " 5   Start_Lng              float64\n",
      " 6   End_Lat                float64\n",
      " 7   End_Lng                float64\n",
      " 8   Distance(mi)           float64\n",
      " 9   Description            object \n",
      " 10  Number                 float64\n",
      " 11  Street                 object \n",
      " 12  Side                   object \n",
      " 13  City                   object \n",
      " 14  County                 object \n",
      " 15  State                  object \n",
      " 16  Zipcode                object \n",
      " 17  Country                object \n",
      " 18  Timezone               object \n",
      " 19  Airport_Code           object \n",
      " 20  Weather_Timestamp      object \n",
      " 21  Temperature(F)         float64\n",
      " 22  Wind_Chill(F)          float64\n",
      " 23  Humidity(%)            float64\n",
      " 24  Pressure(in)           float64\n",
      " 25  Visibility(mi)         float64\n",
      " 26  Wind_Direction         object \n",
      " 27  Wind_Speed(mph)        float64\n",
      " 28  Precipitation(in)      float64\n",
      " 29  Weather_Condition      object \n",
      " 30  Amenity                bool   \n",
      " 31  Bump                   bool   \n",
      " 32  Crossing               bool   \n",
      " 33  Give_Way               bool   \n",
      " 34  Junction               bool   \n",
      " 35  No_Exit                bool   \n",
      " 36  Railway                bool   \n",
      " 37  Roundabout             bool   \n",
      " 38  Station                bool   \n",
      " 39  Stop                   bool   \n",
      " 40  Traffic_Calming        bool   \n",
      " 41  Traffic_Signal         bool   \n",
      " 42  Turning_Loop           bool   \n",
      " 43  Sunrise_Sunset         object \n",
      " 44  Civil_Twilight         object \n",
      " 45  Nautical_Twilight      object \n",
      " 46  Astronomical_Twilight  object \n",
      "dtypes: bool(13), float64(13), int64(1), object(20)\n",
      "memory usage: 773.4+ MB\n"
     ]
    }
   ],
   "source": [
    "data.info()"
   ]
  },
  {
   "cell_type": "code",
   "execution_count": 10,
   "id": "e675f1be",
   "metadata": {},
   "outputs": [],
   "source": [
    "# rename columns in x\n",
    "data.rename(columns = {\n",
    "    'Temperature(F)' : 'Temperature',\n",
    "    'Wind_Chill(F)' : 'Wind_Chill',\n",
    "    'Distance(mi)' : 'Distance',\n",
    "    'Humidity(%)' : 'Humidity',\n",
    "    'Pressure(in)' : 'Pressure',\n",
    "    'Visibility(mi)' : 'Visibility',\n",
    "    'Wind_Speed(mph)' : 'Wind_Speed',\n",
    "    'Precipitation(in)': 'Precipitation'\n",
    "}, inplace = True)"
   ]
  },
  {
   "cell_type": "code",
   "execution_count": 11,
   "id": "a11a1fa4",
   "metadata": {},
   "outputs": [
    {
     "data": {
      "text/html": [
       "<div>\n",
       "<style scoped>\n",
       "    .dataframe tbody tr th:only-of-type {\n",
       "        vertical-align: middle;\n",
       "    }\n",
       "\n",
       "    .dataframe tbody tr th {\n",
       "        vertical-align: top;\n",
       "    }\n",
       "\n",
       "    .dataframe thead th {\n",
       "        text-align: right;\n",
       "    }\n",
       "</style>\n",
       "<table border=\"1\" class=\"dataframe\">\n",
       "  <thead>\n",
       "    <tr style=\"text-align: right;\">\n",
       "      <th></th>\n",
       "      <th>ID</th>\n",
       "      <th>Severity</th>\n",
       "      <th>Start_Time</th>\n",
       "      <th>End_Time</th>\n",
       "      <th>Start_Lat</th>\n",
       "      <th>Start_Lng</th>\n",
       "      <th>End_Lat</th>\n",
       "      <th>End_Lng</th>\n",
       "      <th>Distance</th>\n",
       "      <th>Description</th>\n",
       "      <th>...</th>\n",
       "      <th>Roundabout</th>\n",
       "      <th>Station</th>\n",
       "      <th>Stop</th>\n",
       "      <th>Traffic_Calming</th>\n",
       "      <th>Traffic_Signal</th>\n",
       "      <th>Turning_Loop</th>\n",
       "      <th>Sunrise_Sunset</th>\n",
       "      <th>Civil_Twilight</th>\n",
       "      <th>Nautical_Twilight</th>\n",
       "      <th>Astronomical_Twilight</th>\n",
       "    </tr>\n",
       "  </thead>\n",
       "  <tbody>\n",
       "    <tr>\n",
       "      <th>0</th>\n",
       "      <td>A-1</td>\n",
       "      <td>3</td>\n",
       "      <td>2016-02-08 00:37:08</td>\n",
       "      <td>2016-02-08 06:37:08</td>\n",
       "      <td>40.108910</td>\n",
       "      <td>-83.092860</td>\n",
       "      <td>40.112060</td>\n",
       "      <td>-83.031870</td>\n",
       "      <td>3.230</td>\n",
       "      <td>Between Sawmill Rd/Exit 20 and OH-315/Olentang...</td>\n",
       "      <td>...</td>\n",
       "      <td>False</td>\n",
       "      <td>False</td>\n",
       "      <td>False</td>\n",
       "      <td>False</td>\n",
       "      <td>False</td>\n",
       "      <td>False</td>\n",
       "      <td>Night</td>\n",
       "      <td>Night</td>\n",
       "      <td>Night</td>\n",
       "      <td>Night</td>\n",
       "    </tr>\n",
       "    <tr>\n",
       "      <th>1</th>\n",
       "      <td>A-2</td>\n",
       "      <td>2</td>\n",
       "      <td>2016-02-08 05:56:20</td>\n",
       "      <td>2016-02-08 11:56:20</td>\n",
       "      <td>39.865420</td>\n",
       "      <td>-84.062800</td>\n",
       "      <td>39.865010</td>\n",
       "      <td>-84.048730</td>\n",
       "      <td>0.747</td>\n",
       "      <td>At OH-4/OH-235/Exit 41 - Accident.</td>\n",
       "      <td>...</td>\n",
       "      <td>False</td>\n",
       "      <td>False</td>\n",
       "      <td>False</td>\n",
       "      <td>False</td>\n",
       "      <td>False</td>\n",
       "      <td>False</td>\n",
       "      <td>Night</td>\n",
       "      <td>Night</td>\n",
       "      <td>Night</td>\n",
       "      <td>Night</td>\n",
       "    </tr>\n",
       "    <tr>\n",
       "      <th>2</th>\n",
       "      <td>A-3</td>\n",
       "      <td>2</td>\n",
       "      <td>2016-02-08 06:15:39</td>\n",
       "      <td>2016-02-08 12:15:39</td>\n",
       "      <td>39.102660</td>\n",
       "      <td>-84.524680</td>\n",
       "      <td>39.102090</td>\n",
       "      <td>-84.523960</td>\n",
       "      <td>0.055</td>\n",
       "      <td>At I-71/US-50/Exit 1 - Accident.</td>\n",
       "      <td>...</td>\n",
       "      <td>False</td>\n",
       "      <td>False</td>\n",
       "      <td>False</td>\n",
       "      <td>False</td>\n",
       "      <td>False</td>\n",
       "      <td>False</td>\n",
       "      <td>Night</td>\n",
       "      <td>Night</td>\n",
       "      <td>Night</td>\n",
       "      <td>Day</td>\n",
       "    </tr>\n",
       "    <tr>\n",
       "      <th>3</th>\n",
       "      <td>A-4</td>\n",
       "      <td>2</td>\n",
       "      <td>2016-02-08 06:51:45</td>\n",
       "      <td>2016-02-08 12:51:45</td>\n",
       "      <td>41.062130</td>\n",
       "      <td>-81.537840</td>\n",
       "      <td>41.062170</td>\n",
       "      <td>-81.535470</td>\n",
       "      <td>0.123</td>\n",
       "      <td>At Dart Ave/Exit 21 - Accident.</td>\n",
       "      <td>...</td>\n",
       "      <td>False</td>\n",
       "      <td>False</td>\n",
       "      <td>False</td>\n",
       "      <td>False</td>\n",
       "      <td>False</td>\n",
       "      <td>False</td>\n",
       "      <td>Night</td>\n",
       "      <td>Night</td>\n",
       "      <td>Day</td>\n",
       "      <td>Day</td>\n",
       "    </tr>\n",
       "    <tr>\n",
       "      <th>4</th>\n",
       "      <td>A-5</td>\n",
       "      <td>3</td>\n",
       "      <td>2016-02-08 07:53:43</td>\n",
       "      <td>2016-02-08 13:53:43</td>\n",
       "      <td>39.172393</td>\n",
       "      <td>-84.492792</td>\n",
       "      <td>39.170476</td>\n",
       "      <td>-84.501798</td>\n",
       "      <td>0.500</td>\n",
       "      <td>At Mitchell Ave/Exit 6 - Accident.</td>\n",
       "      <td>...</td>\n",
       "      <td>False</td>\n",
       "      <td>False</td>\n",
       "      <td>False</td>\n",
       "      <td>False</td>\n",
       "      <td>False</td>\n",
       "      <td>False</td>\n",
       "      <td>Day</td>\n",
       "      <td>Day</td>\n",
       "      <td>Day</td>\n",
       "      <td>Day</td>\n",
       "    </tr>\n",
       "  </tbody>\n",
       "</table>\n",
       "<p>5 rows × 47 columns</p>\n",
       "</div>"
      ],
      "text/plain": [
       "    ID  Severity           Start_Time             End_Time  Start_Lat  \\\n",
       "0  A-1         3  2016-02-08 00:37:08  2016-02-08 06:37:08  40.108910   \n",
       "1  A-2         2  2016-02-08 05:56:20  2016-02-08 11:56:20  39.865420   \n",
       "2  A-3         2  2016-02-08 06:15:39  2016-02-08 12:15:39  39.102660   \n",
       "3  A-4         2  2016-02-08 06:51:45  2016-02-08 12:51:45  41.062130   \n",
       "4  A-5         3  2016-02-08 07:53:43  2016-02-08 13:53:43  39.172393   \n",
       "\n",
       "   Start_Lng    End_Lat    End_Lng  Distance  \\\n",
       "0 -83.092860  40.112060 -83.031870     3.230   \n",
       "1 -84.062800  39.865010 -84.048730     0.747   \n",
       "2 -84.524680  39.102090 -84.523960     0.055   \n",
       "3 -81.537840  41.062170 -81.535470     0.123   \n",
       "4 -84.492792  39.170476 -84.501798     0.500   \n",
       "\n",
       "                                         Description  ...  Roundabout Station  \\\n",
       "0  Between Sawmill Rd/Exit 20 and OH-315/Olentang...  ...       False   False   \n",
       "1                 At OH-4/OH-235/Exit 41 - Accident.  ...       False   False   \n",
       "2                   At I-71/US-50/Exit 1 - Accident.  ...       False   False   \n",
       "3                    At Dart Ave/Exit 21 - Accident.  ...       False   False   \n",
       "4                 At Mitchell Ave/Exit 6 - Accident.  ...       False   False   \n",
       "\n",
       "    Stop Traffic_Calming Traffic_Signal Turning_Loop Sunrise_Sunset  \\\n",
       "0  False           False          False        False          Night   \n",
       "1  False           False          False        False          Night   \n",
       "2  False           False          False        False          Night   \n",
       "3  False           False          False        False          Night   \n",
       "4  False           False          False        False            Day   \n",
       "\n",
       "  Civil_Twilight Nautical_Twilight Astronomical_Twilight  \n",
       "0          Night             Night                 Night  \n",
       "1          Night             Night                 Night  \n",
       "2          Night             Night                   Day  \n",
       "3          Night               Day                   Day  \n",
       "4            Day               Day                   Day  \n",
       "\n",
       "[5 rows x 47 columns]"
      ]
     },
     "execution_count": 11,
     "metadata": {},
     "output_type": "execute_result"
    }
   ],
   "source": [
    "data.head()"
   ]
  },
  {
   "cell_type": "code",
   "execution_count": null,
   "id": "1a0e7cea",
   "metadata": {},
   "outputs": [],
   "source": [
    "data.nunique()"
   ]
  },
  {
   "cell_type": "code",
   "execution_count": 13,
   "id": "c17f5cd5",
   "metadata": {},
   "outputs": [],
   "source": [
    "#Changing Id from catagorical variable to numeric\n",
    "le = LabelEncoder()"
   ]
  },
  {
   "cell_type": "code",
   "execution_count": 14,
   "id": "efd81603",
   "metadata": {},
   "outputs": [
    {
     "data": {
      "text/html": [
       "<style>#sk-container-id-1 {color: black;background-color: white;}#sk-container-id-1 pre{padding: 0;}#sk-container-id-1 div.sk-toggleable {background-color: white;}#sk-container-id-1 label.sk-toggleable__label {cursor: pointer;display: block;width: 100%;margin-bottom: 0;padding: 0.3em;box-sizing: border-box;text-align: center;}#sk-container-id-1 label.sk-toggleable__label-arrow:before {content: \"▸\";float: left;margin-right: 0.25em;color: #696969;}#sk-container-id-1 label.sk-toggleable__label-arrow:hover:before {color: black;}#sk-container-id-1 div.sk-estimator:hover label.sk-toggleable__label-arrow:before {color: black;}#sk-container-id-1 div.sk-toggleable__content {max-height: 0;max-width: 0;overflow: hidden;text-align: left;background-color: #f0f8ff;}#sk-container-id-1 div.sk-toggleable__content pre {margin: 0.2em;color: black;border-radius: 0.25em;background-color: #f0f8ff;}#sk-container-id-1 input.sk-toggleable__control:checked~div.sk-toggleable__content {max-height: 200px;max-width: 100%;overflow: auto;}#sk-container-id-1 input.sk-toggleable__control:checked~label.sk-toggleable__label-arrow:before {content: \"▾\";}#sk-container-id-1 div.sk-estimator input.sk-toggleable__control:checked~label.sk-toggleable__label {background-color: #d4ebff;}#sk-container-id-1 div.sk-label input.sk-toggleable__control:checked~label.sk-toggleable__label {background-color: #d4ebff;}#sk-container-id-1 input.sk-hidden--visually {border: 0;clip: rect(1px 1px 1px 1px);clip: rect(1px, 1px, 1px, 1px);height: 1px;margin: -1px;overflow: hidden;padding: 0;position: absolute;width: 1px;}#sk-container-id-1 div.sk-estimator {font-family: monospace;background-color: #f0f8ff;border: 1px dotted black;border-radius: 0.25em;box-sizing: border-box;margin-bottom: 0.5em;}#sk-container-id-1 div.sk-estimator:hover {background-color: #d4ebff;}#sk-container-id-1 div.sk-parallel-item::after {content: \"\";width: 100%;border-bottom: 1px solid gray;flex-grow: 1;}#sk-container-id-1 div.sk-label:hover label.sk-toggleable__label {background-color: #d4ebff;}#sk-container-id-1 div.sk-serial::before {content: \"\";position: absolute;border-left: 1px solid gray;box-sizing: border-box;top: 0;bottom: 0;left: 50%;z-index: 0;}#sk-container-id-1 div.sk-serial {display: flex;flex-direction: column;align-items: center;background-color: white;padding-right: 0.2em;padding-left: 0.2em;position: relative;}#sk-container-id-1 div.sk-item {position: relative;z-index: 1;}#sk-container-id-1 div.sk-parallel {display: flex;align-items: stretch;justify-content: center;background-color: white;position: relative;}#sk-container-id-1 div.sk-item::before, #sk-container-id-1 div.sk-parallel-item::before {content: \"\";position: absolute;border-left: 1px solid gray;box-sizing: border-box;top: 0;bottom: 0;left: 50%;z-index: -1;}#sk-container-id-1 div.sk-parallel-item {display: flex;flex-direction: column;z-index: 1;position: relative;background-color: white;}#sk-container-id-1 div.sk-parallel-item:first-child::after {align-self: flex-end;width: 50%;}#sk-container-id-1 div.sk-parallel-item:last-child::after {align-self: flex-start;width: 50%;}#sk-container-id-1 div.sk-parallel-item:only-child::after {width: 0;}#sk-container-id-1 div.sk-dashed-wrapped {border: 1px dashed gray;margin: 0 0.4em 0.5em 0.4em;box-sizing: border-box;padding-bottom: 0.4em;background-color: white;}#sk-container-id-1 div.sk-label label {font-family: monospace;font-weight: bold;display: inline-block;line-height: 1.2em;}#sk-container-id-1 div.sk-label-container {text-align: center;}#sk-container-id-1 div.sk-container {/* jupyter's `normalize.less` sets `[hidden] { display: none; }` but bootstrap.min.css set `[hidden] { display: none !important; }` so we also need the `!important` here to be able to override the default hidden behavior on the sphinx rendered scikit-learn.org. See: https://github.com/scikit-learn/scikit-learn/issues/21755 */display: inline-block !important;position: relative;}#sk-container-id-1 div.sk-text-repr-fallback {display: none;}</style><div id=\"sk-container-id-1\" class=\"sk-top-container\"><div class=\"sk-text-repr-fallback\"><pre>LabelEncoder()</pre><b>In a Jupyter environment, please rerun this cell to show the HTML representation or trust the notebook. <br />On GitHub, the HTML representation is unable to render, please try loading this page with nbviewer.org.</b></div><div class=\"sk-container\" hidden><div class=\"sk-item\"><div class=\"sk-estimator sk-toggleable\"><input class=\"sk-toggleable__control sk-hidden--visually\" id=\"sk-estimator-id-1\" type=\"checkbox\" checked><label for=\"sk-estimator-id-1\" class=\"sk-toggleable__label sk-toggleable__label-arrow\">LabelEncoder</label><div class=\"sk-toggleable__content\"><pre>LabelEncoder()</pre></div></div></div></div></div>"
      ],
      "text/plain": [
       "LabelEncoder()"
      ]
     },
     "execution_count": 14,
     "metadata": {},
     "output_type": "execute_result"
    }
   ],
   "source": [
    "le.fit(data['ID'])\n",
    "le.fit(data['Street'])\n",
    "le.fit(data['City'])\n",
    "le.fit(data['Wind_Direction'])\n",
    "le.fit(data['Weather_Condition'])"
   ]
  },
  {
   "cell_type": "code",
   "execution_count": 15,
   "id": "ae53d50d",
   "metadata": {},
   "outputs": [
    {
     "data": {
      "text/plain": [
       "0                0\n",
       "1          1111111\n",
       "2          2067565\n",
       "3          2178676\n",
       "4          2289787\n",
       "            ...   \n",
       "2845337    2050378\n",
       "2845338    2050379\n",
       "2845339    2050381\n",
       "2845340    2050382\n",
       "2845341    2050383\n",
       "Name: ID, Length: 2845342, dtype: int32"
      ]
     },
     "execution_count": 15,
     "metadata": {},
     "output_type": "execute_result"
    }
   ],
   "source": [
    "data['ID'] = le.fit_transform(data['ID'])\n",
    "data['City'] = le.fit_transform(data['City'])\n",
    "data['Street'] = le.fit_transform(data['Street'])\n",
    "data['Timezone'] = le.fit_transform(data['Timezone'])\n",
    "data['Wind_Direction'] = le.fit_transform(data['Wind_Direction'])\n",
    "data['Weather_Condition'] = le.fit_transform(data['Weather_Condition'])\n",
    "data['ID']"
   ]
  },
  {
   "cell_type": "code",
   "execution_count": 16,
   "id": "68151093",
   "metadata": {},
   "outputs": [],
   "source": [
    "# def export_data():\n",
    "#     with engine.begin()as conn:\n",
    "#         data.head(5).to_sql(con=conn, name='dataset', if_exists='append', index=False)\n",
    "# export_data()    \n",
    "\n"
   ]
  },
  {
   "cell_type": "code",
   "execution_count": 16,
   "id": "b6c842cb",
   "metadata": {},
   "outputs": [
    {
     "data": {
      "text/html": [
       "<div>\n",
       "<style scoped>\n",
       "    .dataframe tbody tr th:only-of-type {\n",
       "        vertical-align: middle;\n",
       "    }\n",
       "\n",
       "    .dataframe tbody tr th {\n",
       "        vertical-align: top;\n",
       "    }\n",
       "\n",
       "    .dataframe thead th {\n",
       "        text-align: right;\n",
       "    }\n",
       "</style>\n",
       "<table border=\"1\" class=\"dataframe\">\n",
       "  <thead>\n",
       "    <tr style=\"text-align: right;\">\n",
       "      <th></th>\n",
       "      <th>ID</th>\n",
       "      <th>Severity</th>\n",
       "      <th>Start_Lat</th>\n",
       "      <th>Start_Lng</th>\n",
       "      <th>End_Lat</th>\n",
       "      <th>End_Lng</th>\n",
       "      <th>Distance</th>\n",
       "      <th>Number</th>\n",
       "      <th>Street</th>\n",
       "      <th>City</th>\n",
       "      <th>Timezone</th>\n",
       "      <th>Temperature</th>\n",
       "      <th>Wind_Chill</th>\n",
       "      <th>Humidity</th>\n",
       "      <th>Pressure</th>\n",
       "      <th>Visibility</th>\n",
       "      <th>Wind_Direction</th>\n",
       "      <th>Wind_Speed</th>\n",
       "      <th>Precipitation</th>\n",
       "      <th>Weather_Condition</th>\n",
       "    </tr>\n",
       "  </thead>\n",
       "  <tbody>\n",
       "    <tr>\n",
       "      <th>count</th>\n",
       "      <td>2.845342e+06</td>\n",
       "      <td>2.845342e+06</td>\n",
       "      <td>2.845342e+06</td>\n",
       "      <td>2.845342e+06</td>\n",
       "      <td>2.845342e+06</td>\n",
       "      <td>2.845342e+06</td>\n",
       "      <td>2.845342e+06</td>\n",
       "      <td>1.101431e+06</td>\n",
       "      <td>2.845342e+06</td>\n",
       "      <td>2.845342e+06</td>\n",
       "      <td>2.845342e+06</td>\n",
       "      <td>2.776068e+06</td>\n",
       "      <td>2.375699e+06</td>\n",
       "      <td>2.772250e+06</td>\n",
       "      <td>2.786142e+06</td>\n",
       "      <td>2.774796e+06</td>\n",
       "      <td>2.845342e+06</td>\n",
       "      <td>2.687398e+06</td>\n",
       "      <td>2.295884e+06</td>\n",
       "      <td>2.845342e+06</td>\n",
       "    </tr>\n",
       "    <tr>\n",
       "      <th>mean</th>\n",
       "      <td>1.422670e+06</td>\n",
       "      <td>2.137572e+00</td>\n",
       "      <td>3.624520e+01</td>\n",
       "      <td>-9.711463e+01</td>\n",
       "      <td>3.624532e+01</td>\n",
       "      <td>-9.711439e+01</td>\n",
       "      <td>7.026779e-01</td>\n",
       "      <td>8.089408e+03</td>\n",
       "      <td>1.034549e+05</td>\n",
       "      <td>5.933791e+03</td>\n",
       "      <td>1.569948e+00</td>\n",
       "      <td>6.179356e+01</td>\n",
       "      <td>5.965823e+01</td>\n",
       "      <td>6.436545e+01</td>\n",
       "      <td>2.947234e+01</td>\n",
       "      <td>9.099391e+00</td>\n",
       "      <td>1.066499e+01</td>\n",
       "      <td>7.395044e+00</td>\n",
       "      <td>7.016940e-03</td>\n",
       "      <td>3.861142e+01</td>\n",
       "    </tr>\n",
       "    <tr>\n",
       "      <th>std</th>\n",
       "      <td>8.213796e+05</td>\n",
       "      <td>4.787216e-01</td>\n",
       "      <td>5.363797e+00</td>\n",
       "      <td>1.831782e+01</td>\n",
       "      <td>5.363873e+00</td>\n",
       "      <td>1.831763e+01</td>\n",
       "      <td>1.560361e+00</td>\n",
       "      <td>1.836009e+04</td>\n",
       "      <td>4.118555e+04</td>\n",
       "      <td>3.210433e+03</td>\n",
       "      <td>1.129451e+00</td>\n",
       "      <td>1.862263e+01</td>\n",
       "      <td>2.116097e+01</td>\n",
       "      <td>2.287457e+01</td>\n",
       "      <td>1.045286e+00</td>\n",
       "      <td>2.717546e+00</td>\n",
       "      <td>7.610700e+00</td>\n",
       "      <td>5.527454e+00</td>\n",
       "      <td>9.348831e-02</td>\n",
       "      <td>3.434061e+01</td>\n",
       "    </tr>\n",
       "    <tr>\n",
       "      <th>min</th>\n",
       "      <td>0.000000e+00</td>\n",
       "      <td>1.000000e+00</td>\n",
       "      <td>2.456603e+01</td>\n",
       "      <td>-1.245481e+02</td>\n",
       "      <td>2.456601e+01</td>\n",
       "      <td>-1.245457e+02</td>\n",
       "      <td>0.000000e+00</td>\n",
       "      <td>0.000000e+00</td>\n",
       "      <td>0.000000e+00</td>\n",
       "      <td>0.000000e+00</td>\n",
       "      <td>0.000000e+00</td>\n",
       "      <td>-8.900000e+01</td>\n",
       "      <td>-8.900000e+01</td>\n",
       "      <td>1.000000e+00</td>\n",
       "      <td>0.000000e+00</td>\n",
       "      <td>0.000000e+00</td>\n",
       "      <td>0.000000e+00</td>\n",
       "      <td>0.000000e+00</td>\n",
       "      <td>0.000000e+00</td>\n",
       "      <td>0.000000e+00</td>\n",
       "    </tr>\n",
       "    <tr>\n",
       "      <th>25%</th>\n",
       "      <td>7.113352e+05</td>\n",
       "      <td>2.000000e+00</td>\n",
       "      <td>3.344517e+01</td>\n",
       "      <td>-1.180331e+02</td>\n",
       "      <td>3.344628e+01</td>\n",
       "      <td>-1.180333e+02</td>\n",
       "      <td>5.200000e-02</td>\n",
       "      <td>1.270000e+03</td>\n",
       "      <td>7.763725e+04</td>\n",
       "      <td>3.261000e+03</td>\n",
       "      <td>1.000000e+00</td>\n",
       "      <td>5.000000e+01</td>\n",
       "      <td>4.600000e+01</td>\n",
       "      <td>4.800000e+01</td>\n",
       "      <td>2.931000e+01</td>\n",
       "      <td>1.000000e+01</td>\n",
       "      <td>3.000000e+00</td>\n",
       "      <td>3.500000e+00</td>\n",
       "      <td>0.000000e+00</td>\n",
       "      <td>1.500000e+01</td>\n",
       "    </tr>\n",
       "    <tr>\n",
       "      <th>50%</th>\n",
       "      <td>1.422670e+06</td>\n",
       "      <td>2.000000e+00</td>\n",
       "      <td>3.609861e+01</td>\n",
       "      <td>-9.241808e+01</td>\n",
       "      <td>3.609799e+01</td>\n",
       "      <td>-9.241772e+01</td>\n",
       "      <td>2.440000e-01</td>\n",
       "      <td>4.007000e+03</td>\n",
       "      <td>1.232310e+05</td>\n",
       "      <td>6.262000e+03</td>\n",
       "      <td>1.000000e+00</td>\n",
       "      <td>6.400000e+01</td>\n",
       "      <td>6.300000e+01</td>\n",
       "      <td>6.700000e+01</td>\n",
       "      <td>2.982000e+01</td>\n",
       "      <td>1.000000e+01</td>\n",
       "      <td>1.100000e+01</td>\n",
       "      <td>7.000000e+00</td>\n",
       "      <td>0.000000e+00</td>\n",
       "      <td>1.500000e+01</td>\n",
       "    </tr>\n",
       "    <tr>\n",
       "      <th>75%</th>\n",
       "      <td>2.134006e+06</td>\n",
       "      <td>2.000000e+00</td>\n",
       "      <td>4.016024e+01</td>\n",
       "      <td>-8.037243e+01</td>\n",
       "      <td>4.016105e+01</td>\n",
       "      <td>-8.037338e+01</td>\n",
       "      <td>7.640000e-01</td>\n",
       "      <td>9.567000e+03</td>\n",
       "      <td>1.302330e+05</td>\n",
       "      <td>8.691000e+03</td>\n",
       "      <td>3.000000e+00</td>\n",
       "      <td>7.600000e+01</td>\n",
       "      <td>7.600000e+01</td>\n",
       "      <td>8.300000e+01</td>\n",
       "      <td>3.001000e+01</td>\n",
       "      <td>1.000000e+01</td>\n",
       "      <td>1.700000e+01</td>\n",
       "      <td>1.000000e+01</td>\n",
       "      <td>0.000000e+00</td>\n",
       "      <td>7.600000e+01</td>\n",
       "    </tr>\n",
       "    <tr>\n",
       "      <th>max</th>\n",
       "      <td>2.845341e+06</td>\n",
       "      <td>4.000000e+00</td>\n",
       "      <td>4.900058e+01</td>\n",
       "      <td>-6.711317e+01</td>\n",
       "      <td>4.907500e+01</td>\n",
       "      <td>-6.710924e+01</td>\n",
       "      <td>1.551860e+02</td>\n",
       "      <td>9.999997e+06</td>\n",
       "      <td>1.596510e+05</td>\n",
       "      <td>1.168100e+04</td>\n",
       "      <td>4.000000e+00</td>\n",
       "      <td>1.960000e+02</td>\n",
       "      <td>1.960000e+02</td>\n",
       "      <td>1.000000e+02</td>\n",
       "      <td>5.890000e+01</td>\n",
       "      <td>1.400000e+02</td>\n",
       "      <td>2.400000e+01</td>\n",
       "      <td>1.087000e+03</td>\n",
       "      <td>2.400000e+01</td>\n",
       "      <td>1.270000e+02</td>\n",
       "    </tr>\n",
       "  </tbody>\n",
       "</table>\n",
       "</div>"
      ],
      "text/plain": [
       "                 ID      Severity     Start_Lat     Start_Lng       End_Lat  \\\n",
       "count  2.845342e+06  2.845342e+06  2.845342e+06  2.845342e+06  2.845342e+06   \n",
       "mean   1.422670e+06  2.137572e+00  3.624520e+01 -9.711463e+01  3.624532e+01   \n",
       "std    8.213796e+05  4.787216e-01  5.363797e+00  1.831782e+01  5.363873e+00   \n",
       "min    0.000000e+00  1.000000e+00  2.456603e+01 -1.245481e+02  2.456601e+01   \n",
       "25%    7.113352e+05  2.000000e+00  3.344517e+01 -1.180331e+02  3.344628e+01   \n",
       "50%    1.422670e+06  2.000000e+00  3.609861e+01 -9.241808e+01  3.609799e+01   \n",
       "75%    2.134006e+06  2.000000e+00  4.016024e+01 -8.037243e+01  4.016105e+01   \n",
       "max    2.845341e+06  4.000000e+00  4.900058e+01 -6.711317e+01  4.907500e+01   \n",
       "\n",
       "            End_Lng      Distance        Number        Street          City  \\\n",
       "count  2.845342e+06  2.845342e+06  1.101431e+06  2.845342e+06  2.845342e+06   \n",
       "mean  -9.711439e+01  7.026779e-01  8.089408e+03  1.034549e+05  5.933791e+03   \n",
       "std    1.831763e+01  1.560361e+00  1.836009e+04  4.118555e+04  3.210433e+03   \n",
       "min   -1.245457e+02  0.000000e+00  0.000000e+00  0.000000e+00  0.000000e+00   \n",
       "25%   -1.180333e+02  5.200000e-02  1.270000e+03  7.763725e+04  3.261000e+03   \n",
       "50%   -9.241772e+01  2.440000e-01  4.007000e+03  1.232310e+05  6.262000e+03   \n",
       "75%   -8.037338e+01  7.640000e-01  9.567000e+03  1.302330e+05  8.691000e+03   \n",
       "max   -6.710924e+01  1.551860e+02  9.999997e+06  1.596510e+05  1.168100e+04   \n",
       "\n",
       "           Timezone   Temperature    Wind_Chill      Humidity      Pressure  \\\n",
       "count  2.845342e+06  2.776068e+06  2.375699e+06  2.772250e+06  2.786142e+06   \n",
       "mean   1.569948e+00  6.179356e+01  5.965823e+01  6.436545e+01  2.947234e+01   \n",
       "std    1.129451e+00  1.862263e+01  2.116097e+01  2.287457e+01  1.045286e+00   \n",
       "min    0.000000e+00 -8.900000e+01 -8.900000e+01  1.000000e+00  0.000000e+00   \n",
       "25%    1.000000e+00  5.000000e+01  4.600000e+01  4.800000e+01  2.931000e+01   \n",
       "50%    1.000000e+00  6.400000e+01  6.300000e+01  6.700000e+01  2.982000e+01   \n",
       "75%    3.000000e+00  7.600000e+01  7.600000e+01  8.300000e+01  3.001000e+01   \n",
       "max    4.000000e+00  1.960000e+02  1.960000e+02  1.000000e+02  5.890000e+01   \n",
       "\n",
       "         Visibility  Wind_Direction    Wind_Speed  Precipitation  \\\n",
       "count  2.774796e+06    2.845342e+06  2.687398e+06   2.295884e+06   \n",
       "mean   9.099391e+00    1.066499e+01  7.395044e+00   7.016940e-03   \n",
       "std    2.717546e+00    7.610700e+00  5.527454e+00   9.348831e-02   \n",
       "min    0.000000e+00    0.000000e+00  0.000000e+00   0.000000e+00   \n",
       "25%    1.000000e+01    3.000000e+00  3.500000e+00   0.000000e+00   \n",
       "50%    1.000000e+01    1.100000e+01  7.000000e+00   0.000000e+00   \n",
       "75%    1.000000e+01    1.700000e+01  1.000000e+01   0.000000e+00   \n",
       "max    1.400000e+02    2.400000e+01  1.087000e+03   2.400000e+01   \n",
       "\n",
       "       Weather_Condition  \n",
       "count       2.845342e+06  \n",
       "mean        3.861142e+01  \n",
       "std         3.434061e+01  \n",
       "min         0.000000e+00  \n",
       "25%         1.500000e+01  \n",
       "50%         1.500000e+01  \n",
       "75%         7.600000e+01  \n",
       "max         1.270000e+02  "
      ]
     },
     "execution_count": 16,
     "metadata": {},
     "output_type": "execute_result"
    }
   ],
   "source": [
    "data.describe()"
   ]
  },
  {
   "cell_type": "code",
   "execution_count": 17,
   "id": "b3e8b742",
   "metadata": {},
   "outputs": [
    {
     "name": "stdout",
     "output_type": "stream",
     "text": [
      "<class 'pandas.core.frame.DataFrame'>\n",
      "RangeIndex: 2845342 entries, 0 to 2845341\n",
      "Data columns (total 47 columns):\n",
      " #   Column                 Dtype  \n",
      "---  ------                 -----  \n",
      " 0   ID                     int32  \n",
      " 1   Severity               int64  \n",
      " 2   Start_Time             object \n",
      " 3   End_Time               object \n",
      " 4   Start_Lat              float64\n",
      " 5   Start_Lng              float64\n",
      " 6   End_Lat                float64\n",
      " 7   End_Lng                float64\n",
      " 8   Distance               float64\n",
      " 9   Description            object \n",
      " 10  Number                 float64\n",
      " 11  Street                 int32  \n",
      " 12  Side                   object \n",
      " 13  City                   int32  \n",
      " 14  County                 object \n",
      " 15  State                  object \n",
      " 16  Zipcode                object \n",
      " 17  Country                object \n",
      " 18  Timezone               int32  \n",
      " 19  Airport_Code           object \n",
      " 20  Weather_Timestamp      object \n",
      " 21  Temperature            float64\n",
      " 22  Wind_Chill             float64\n",
      " 23  Humidity               float64\n",
      " 24  Pressure               float64\n",
      " 25  Visibility             float64\n",
      " 26  Wind_Direction         int32  \n",
      " 27  Wind_Speed             float64\n",
      " 28  Precipitation          float64\n",
      " 29  Weather_Condition      int32  \n",
      " 30  Amenity                bool   \n",
      " 31  Bump                   bool   \n",
      " 32  Crossing               bool   \n",
      " 33  Give_Way               bool   \n",
      " 34  Junction               bool   \n",
      " 35  No_Exit                bool   \n",
      " 36  Railway                bool   \n",
      " 37  Roundabout             bool   \n",
      " 38  Station                bool   \n",
      " 39  Stop                   bool   \n",
      " 40  Traffic_Calming        bool   \n",
      " 41  Traffic_Signal         bool   \n",
      " 42  Turning_Loop           bool   \n",
      " 43  Sunrise_Sunset         object \n",
      " 44  Civil_Twilight         object \n",
      " 45  Nautical_Twilight      object \n",
      " 46  Astronomical_Twilight  object \n",
      "dtypes: bool(13), float64(13), int32(6), int64(1), object(14)\n",
      "memory usage: 708.2+ MB\n"
     ]
    }
   ],
   "source": [
    "data.info()"
   ]
  },
  {
   "cell_type": "code",
   "execution_count": 18,
   "id": "0572687a",
   "metadata": {},
   "outputs": [
    {
     "data": {
      "text/plain": [
       "ID                             0\n",
       "Severity                       0\n",
       "Start_Time                     0\n",
       "End_Time                       0\n",
       "Start_Lat                      0\n",
       "Start_Lng                      0\n",
       "End_Lat                        0\n",
       "End_Lng                        0\n",
       "Distance                       0\n",
       "Description                    0\n",
       "Number                   1743911\n",
       "Street                         0\n",
       "Side                           0\n",
       "City                           0\n",
       "County                         0\n",
       "State                          0\n",
       "Zipcode                     1319\n",
       "Country                        0\n",
       "Timezone                       0\n",
       "Airport_Code                9549\n",
       "Weather_Timestamp          50736\n",
       "Temperature                69274\n",
       "Wind_Chill                469643\n",
       "Humidity                   73092\n",
       "Pressure                   59200\n",
       "Visibility                 70546\n",
       "Wind_Direction                 0\n",
       "Wind_Speed                157944\n",
       "Precipitation             549458\n",
       "Weather_Condition              0\n",
       "Amenity                        0\n",
       "Bump                           0\n",
       "Crossing                       0\n",
       "Give_Way                       0\n",
       "Junction                       0\n",
       "No_Exit                        0\n",
       "Railway                        0\n",
       "Roundabout                     0\n",
       "Station                        0\n",
       "Stop                           0\n",
       "Traffic_Calming                0\n",
       "Traffic_Signal                 0\n",
       "Turning_Loop                   0\n",
       "Sunrise_Sunset              2867\n",
       "Civil_Twilight              2867\n",
       "Nautical_Twilight           2867\n",
       "Astronomical_Twilight       2867\n",
       "dtype: int64"
      ]
     },
     "execution_count": 18,
     "metadata": {},
     "output_type": "execute_result"
    }
   ],
   "source": [
    "nullvalues = data.isnull().sum()\n",
    "nullvalues"
   ]
  },
  {
   "cell_type": "code",
   "execution_count": 21,
   "id": "2c61c117",
   "metadata": {},
   "outputs": [],
   "source": [
    "#droping unwanted columns\n",
    "data.drop(['Astronomical_Twilight','Nautical_Twilight','Civil_Twilight','Sunrise_Sunset','Airport_Code','Weather_Timestamp','Zipcode'], axis= 1, inplace= True)\n",
    "#fill null values by mean\n",
    "data['City'].fillna(data['City'].mean(), inplace = True)\n",
    "\n",
    "data['Street'].fillna(data['Street'].mean(), inplace = True)\n",
    "data['Timezone'].fillna(data['Timezone'].mean(), inplace = True)\n",
    "data['Number'].fillna(data['Number'].mean(), inplace = True)\n",
    "data['Temperature'].fillna(data['Temperature'].mean(), inplace = True)\n",
    "data['Wind_Chill'].fillna(data['Wind_Chill'].mean(), inplace = True)\n",
    "data['Humidity'].fillna(data['Humidity'].mean(), inplace = True)\n",
    "data['Pressure'].fillna(data['Pressure'].mean(), inplace = True)\n",
    "data['Visibility'].fillna(data['Visibility'].mean(), inplace = True)\n",
    "data['Wind_Direction'].fillna(data['Wind_Direction'].mean(), inplace = True)\n",
    "data['Wind_Speed'].fillna(data['Wind_Speed'].mean(), inplace = True)\n",
    "data['Precipitation'].fillna(data['Precipitation'].mean(), inplace = True)\n",
    "data['Weather_Condition'].fillna(data['Weather_Condition'].mean(), inplace = True)"
   ]
  },
  {
   "cell_type": "code",
   "execution_count": 22,
   "id": "e32cd9c7",
   "metadata": {},
   "outputs": [
    {
     "data": {
      "text/plain": [
       "ID                   0\n",
       "Severity             0\n",
       "Start_Time           0\n",
       "End_Time             0\n",
       "Start_Lat            0\n",
       "Start_Lng            0\n",
       "End_Lat              0\n",
       "End_Lng              0\n",
       "Distance             0\n",
       "Description          0\n",
       "Number               0\n",
       "Street               0\n",
       "Side                 0\n",
       "City                 0\n",
       "County               0\n",
       "State                0\n",
       "Country              0\n",
       "Timezone             0\n",
       "Temperature          0\n",
       "Wind_Chill           0\n",
       "Humidity             0\n",
       "Pressure             0\n",
       "Visibility           0\n",
       "Wind_Direction       0\n",
       "Wind_Speed           0\n",
       "Precipitation        0\n",
       "Weather_Condition    0\n",
       "Amenity              0\n",
       "Bump                 0\n",
       "Crossing             0\n",
       "Give_Way             0\n",
       "Junction             0\n",
       "No_Exit              0\n",
       "Railway              0\n",
       "Roundabout           0\n",
       "Station              0\n",
       "Stop                 0\n",
       "Traffic_Calming      0\n",
       "Traffic_Signal       0\n",
       "Turning_Loop         0\n",
       "dtype: int64"
      ]
     },
     "execution_count": 22,
     "metadata": {},
     "output_type": "execute_result"
    }
   ],
   "source": [
    "data.isnull().sum()"
   ]
  },
  {
   "cell_type": "code",
   "execution_count": 23,
   "id": "6f8cd31d",
   "metadata": {},
   "outputs": [
    {
     "data": {
      "text/plain": [
       "<AxesSubplot: >"
      ]
     },
     "execution_count": 23,
     "metadata": {},
     "output_type": "execute_result"
    },
    {
     "data": {
      "image/png": "[encoded data removed]",
      "text/plain": [
       "<Figure size 432x288 with 1 Axes>"
      ]
     },
     "metadata": {
      "needs_background": "light"
     },
     "output_type": "display_data"
    }
   ],
   "source": [
    "#null value plot\n",
    "nullvalues[nullvalues != 0].plot(kind = 'barh')"
   ]
  },
  {
   "cell_type": "code",
   "execution_count": 24,
   "id": "7ab907f0",
   "metadata": {},
   "outputs": [
    {
     "data": {
      "text/plain": [
       "Index(['ID', 'Severity', 'Start_Time', 'End_Time', 'Start_Lat', 'Start_Lng',\n",
       "       'End_Lat', 'End_Lng', 'Distance', 'Description', 'Number', 'Street',\n",
       "       'Side', 'City', 'County', 'State', 'Country', 'Timezone', 'Temperature',\n",
       "       'Wind_Chill', 'Humidity', 'Pressure', 'Visibility', 'Wind_Direction',\n",
       "       'Wind_Speed', 'Precipitation', 'Weather_Condition', 'Amenity', 'Bump',\n",
       "       'Crossing', 'Give_Way', 'Junction', 'No_Exit', 'Railway', 'Roundabout',\n",
       "       'Station', 'Stop', 'Traffic_Calming', 'Traffic_Signal', 'Turning_Loop'],\n",
       "      dtype='object')"
      ]
     },
     "execution_count": 24,
     "metadata": {},
     "output_type": "execute_result"
    }
   ],
   "source": [
    "data.columns"
   ]
  },
  {
   "cell_type": "code",
   "execution_count": 25,
   "id": "7c92c78a",
   "metadata": {},
   "outputs": [
    {
     "data": {
      "text/plain": [
       "0          2822\n",
       "1          2534\n",
       "2          1904\n",
       "3            70\n",
       "4          1904\n",
       "           ... \n",
       "2845337    8856\n",
       "2845338    9235\n",
       "2845339    7740\n",
       "2845340    2419\n",
       "2845341    4656\n",
       "Name: City, Length: 2845342, dtype: int32"
      ]
     },
     "execution_count": 25,
     "metadata": {},
     "output_type": "execute_result"
    }
   ],
   "source": [
    "#we will check accordingly with city column\n",
    "data['City']"
   ]
  },
  {
   "cell_type": "code",
   "execution_count": 26,
   "id": "c53457d4",
   "metadata": {},
   "outputs": [
    {
     "data": {
      "text/plain": [
       "11682"
      ]
     },
     "execution_count": 26,
     "metadata": {},
     "output_type": "execute_result"
    }
   ],
   "source": [
    "data['City'].nunique()"
   ]
  },
  {
   "cell_type": "code",
   "execution_count": 27,
   "id": "9a638594",
   "metadata": {},
   "outputs": [
    {
     "data": {
      "text/plain": [
       "count    2.845342e+06\n",
       "mean     5.933791e+03\n",
       "std      3.210433e+03\n",
       "min      0.000000e+00\n",
       "25%      3.261000e+03\n",
       "50%      6.262000e+03\n",
       "75%      8.691000e+03\n",
       "max      1.168100e+04\n",
       "Name: City, dtype: float64"
      ]
     },
     "execution_count": 27,
     "metadata": {},
     "output_type": "execute_result"
    }
   ],
   "source": [
    "data['City'].describe()"
   ]
  },
  {
   "cell_type": "code",
   "execution_count": 28,
   "id": "a62ae9e0",
   "metadata": {},
   "outputs": [
    {
     "data": {
      "text/plain": [
       "6612    106966\n",
       "5981     68956\n",
       "7773     54691\n",
       "2470     41979\n",
       "4836     39448\n",
       "Name: City, dtype: int64"
      ]
     },
     "execution_count": 28,
     "metadata": {},
     "output_type": "execute_result"
    }
   ],
   "source": [
    "accident_in_cities = data.City.value_counts()\n",
    "accident_in_cities.head()"
   ]
  },
  {
   "cell_type": "code",
   "execution_count": 29,
   "id": "ba217f66",
   "metadata": {},
   "outputs": [
    {
     "data": {
      "text/plain": [
       "<AxesSubplot: xlabel='City', ylabel='Count'>"
      ]
     },
     "execution_count": 29,
     "metadata": {},
     "output_type": "execute_result"
    },
    {
     "data": {
      "image/png": "[encoded data removed]",
      "text/plain": [
       "<Figure size 432x288 with 1 Axes>"
      ]
     },
     "metadata": {},
     "output_type": "display_data"
    }
   ],
   "source": [
    "sns.set_style(\"darkgrid\")\n",
    "sns.histplot(accident_in_cities, log_scale = True)"
   ]
  },
  {
   "cell_type": "code",
   "execution_count": 30,
   "id": "83243c55",
   "metadata": {},
   "outputs": [],
   "source": [
    "high_accident_in_city = accident_in_cities[accident_in_cities > 1000]\n",
    "low_accident_in_city = accident_in_cities[accident_in_cities< 1000]"
   ]
  },
  {
   "cell_type": "code",
   "execution_count": 31,
   "id": "773e531b",
   "metadata": {},
   "outputs": [
    {
     "data": {
      "text/plain": [
       "6612     106966\n",
       "5981      68956\n",
       "7773      54691\n",
       "2470      41979\n",
       "4836      39448\n",
       "          ...  \n",
       "1450       1009\n",
       "10827      1005\n",
       "10584      1001\n",
       "10712      1001\n",
       "5982       1001\n",
       "Name: City, Length: 494, dtype: int64"
      ]
     },
     "execution_count": 31,
     "metadata": {},
     "output_type": "execute_result"
    }
   ],
   "source": [
    "high_accident_in_city"
   ]
  },
  {
   "cell_type": "code",
   "execution_count": 32,
   "id": "3afa9c39",
   "metadata": {},
   "outputs": [
    {
     "data": {
      "text/plain": [
       "7808     997\n",
       "6136     997\n",
       "6217     992\n",
       "8436     988\n",
       "9372     985\n",
       "        ... \n",
       "4811       1\n",
       "2368       1\n",
       "7545       1\n",
       "10540      1\n",
       "204        1\n",
       "Name: City, Length: 11186, dtype: int64"
      ]
     },
     "execution_count": 32,
     "metadata": {},
     "output_type": "execute_result"
    }
   ],
   "source": [
    "low_accident_in_city"
   ]
  },
  {
   "cell_type": "code",
   "execution_count": 33,
   "id": "ccd67863",
   "metadata": {},
   "outputs": [
    {
     "name": "stderr",
     "output_type": "stream",
     "text": [
      "C:\\Users\\Om SaiRam\\AppData\\Local\\Temp\\ipykernel_61516\\235313507.py:1: UserWarning: \n",
      "\n",
      "`distplot` is a deprecated function and will be removed in seaborn v0.14.0.\n",
      "\n",
      "Please adapt your code to use either `displot` (a figure-level function with\n",
      "similar flexibility) or `histplot` (an axes-level function for histograms).\n",
      "\n",
      "For a guide to updating your code to use the new functions, please see\n",
      "https://gist.github.com/mwaskom/de44147ed2974457ad6372750bbe5751\n",
      "\n",
      "  sns.distplot(high_accident_in_city)\n"
     ]
    },
    {
     "data": {
      "text/plain": [
       "<AxesSubplot: xlabel='City', ylabel='Density'>"
      ]
     },
     "execution_count": 33,
     "metadata": {},
     "output_type": "execute_result"
    },
    {
     "data": {
      "image/png": "[encoded data removed]",
      "text/plain": [
       "<Figure size 432x288 with 1 Axes>"
      ]
     },
     "metadata": {},
     "output_type": "display_data"
    }
   ],
   "source": [
    "sns.distplot(high_accident_in_city)"
   ]
  },
  {
   "cell_type": "code",
   "execution_count": 34,
   "id": "0b1aaf33",
   "metadata": {},
   "outputs": [
    {
     "data": {
      "text/plain": [
       "435      1\n",
       "1990     1\n",
       "11316    1\n",
       "9081     1\n",
       "10668    1\n",
       "        ..\n",
       "4811     1\n",
       "2368     1\n",
       "7545     1\n",
       "10540    1\n",
       "204      1\n",
       "Name: City, Length: 1110, dtype: int64"
      ]
     },
     "execution_count": 34,
     "metadata": {},
     "output_type": "execute_result"
    }
   ],
   "source": [
    "accident_in_cities[accident_in_cities == 1]"
   ]
  },
  {
   "cell_type": "code",
   "execution_count": 35,
   "id": "0982f793",
   "metadata": {},
   "outputs": [
    {
     "data": {
      "text/plain": [
       "0          2016-02-08 00:37:08\n",
       "1          2016-02-08 05:56:20\n",
       "2          2016-02-08 06:15:39\n",
       "3          2016-02-08 06:51:45\n",
       "4          2016-02-08 07:53:43\n",
       "                  ...         \n",
       "2845337    2019-08-23 18:03:25\n",
       "2845338    2019-08-23 19:11:30\n",
       "2845339    2019-08-23 19:00:21\n",
       "2845340    2019-08-23 19:00:21\n",
       "2845341    2019-08-23 18:52:06\n",
       "Name: Start_Time, Length: 2845342, dtype: object"
      ]
     },
     "execution_count": 35,
     "metadata": {},
     "output_type": "execute_result"
    }
   ],
   "source": [
    "data.Start_Time"
   ]
  },
  {
   "cell_type": "code",
   "execution_count": 36,
   "id": "fee895c5",
   "metadata": {},
   "outputs": [
    {
     "data": {
      "text/plain": [
       "'2016-02-08 00:37:08'"
      ]
     },
     "execution_count": 36,
     "metadata": {},
     "output_type": "execute_result"
    }
   ],
   "source": [
    "data.Start_Time[0]"
   ]
  },
  {
   "cell_type": "code",
   "execution_count": 37,
   "id": "40a9c503",
   "metadata": {},
   "outputs": [],
   "source": [
    "#explore hour of the day\n",
    "data['Start_Time'] = pd.to_datetime(data['Start_Time'], errors='coerce')"
   ]
  },
  {
   "cell_type": "code",
   "execution_count": 38,
   "id": "bde44661",
   "metadata": {},
   "outputs": [
    {
     "name": "stderr",
     "output_type": "stream",
     "text": [
      "C:\\Users\\Om SaiRam\\AppData\\Local\\Temp\\ipykernel_61516\\3680741054.py:1: UserWarning: \n",
      "\n",
      "`distplot` is a deprecated function and will be removed in seaborn v0.14.0.\n",
      "\n",
      "Please adapt your code to use either `displot` (a figure-level function with\n",
      "similar flexibility) or `histplot` (an axes-level function for histograms).\n",
      "\n",
      "For a guide to updating your code to use the new functions, please see\n",
      "https://gist.github.com/mwaskom/de44147ed2974457ad6372750bbe5751\n",
      "\n",
      "  sns.distplot(data.Start_Time.dt.hour, bins=24, kde = False, norm_hist=True)\n"
     ]
    },
    {
     "data": {
      "text/plain": [
       "<AxesSubplot: xlabel='Start_Time'>"
      ]
     },
     "execution_count": 38,
     "metadata": {},
     "output_type": "execute_result"
    },
    {
     "data": {
      "image/png": "[encoded data removed]",
      "text/plain": [
       "<Figure size 432x288 with 1 Axes>"
      ]
     },
     "metadata": {},
     "output_type": "display_data"
    }
   ],
   "source": [
    "sns.distplot(data.Start_Time.dt.hour, bins=24, kde = False, norm_hist=True)"
   ]
  },
  {
   "cell_type": "code",
   "execution_count": 39,
   "id": "f83ca6c7",
   "metadata": {},
   "outputs": [
    {
     "name": "stderr",
     "output_type": "stream",
     "text": [
      "C:\\Users\\Om SaiRam\\AppData\\Local\\Temp\\ipykernel_61516\\3109722993.py:1: UserWarning: \n",
      "\n",
      "`distplot` is a deprecated function and will be removed in seaborn v0.14.0.\n",
      "\n",
      "Please adapt your code to use either `displot` (a figure-level function with\n",
      "similar flexibility) or `histplot` (an axes-level function for histograms).\n",
      "\n",
      "For a guide to updating your code to use the new functions, please see\n",
      "https://gist.github.com/mwaskom/de44147ed2974457ad6372750bbe5751\n",
      "\n",
      "  sns.distplot(data.Start_Time.dt.day_of_week, bins=7, kde = False, norm_hist=True)\n"
     ]
    },
    {
     "data": {
      "text/plain": [
       "<AxesSubplot: xlabel='Start_Time'>"
      ]
     },
     "execution_count": 39,
     "metadata": {},
     "output_type": "execute_result"
    },
    {
     "data": {
      "image/png": "[encoded data removed]",
      "text/plain": [
       "<Figure size 432x288 with 1 Axes>"
      ]
     },
     "metadata": {},
     "output_type": "display_data"
    }
   ],
   "source": [
    "sns.distplot(data.Start_Time.dt.day_of_week, bins=7, kde = False, norm_hist=True)"
   ]
  },
  {
   "cell_type": "code",
   "execution_count": 40,
   "id": "a22b3310",
   "metadata": {},
   "outputs": [
    {
     "data": {
      "text/plain": [
       "154       2016-02-14 03:58:33\n",
       "155       2016-02-14 05:26:58\n",
       "156       2016-02-14 16:30:40\n",
       "157       2016-02-14 16:38:40\n",
       "158       2016-02-14 17:40:17\n",
       "                  ...        \n",
       "2843129   2019-08-18 22:48:14\n",
       "2843130   2019-08-18 23:24:10\n",
       "2843243   2019-08-18 22:56:56\n",
       "2843244   2019-08-18 22:56:56\n",
       "2843282   2019-08-18 22:54:41\n",
       "Name: Start_Time, Length: 259274, dtype: datetime64[ns]"
      ]
     },
     "execution_count": 40,
     "metadata": {},
     "output_type": "execute_result"
    }
   ],
   "source": [
    "start_time_sunday = data.Start_Time[data.Start_Time.dt.dayofweek == 6]\n",
    "start_time_sunday"
   ]
  },
  {
   "cell_type": "code",
   "execution_count": 41,
   "id": "2c0d1f2b",
   "metadata": {},
   "outputs": [
    {
     "name": "stderr",
     "output_type": "stream",
     "text": [
      "C:\\Users\\Om SaiRam\\AppData\\Local\\Temp\\ipykernel_61516\\3507159569.py:1: UserWarning: \n",
      "\n",
      "`distplot` is a deprecated function and will be removed in seaborn v0.14.0.\n",
      "\n",
      "Please adapt your code to use either `displot` (a figure-level function with\n",
      "similar flexibility) or `histplot` (an axes-level function for histograms).\n",
      "\n",
      "For a guide to updating your code to use the new functions, please see\n",
      "https://gist.github.com/mwaskom/de44147ed2974457ad6372750bbe5751\n",
      "\n",
      "  sns.distplot(start_time_sunday.dt.hour, bins=24, kde = False, norm_hist=True)\n"
     ]
    },
    {
     "data": {
      "text/plain": [
       "<AxesSubplot: xlabel='Start_Time'>"
      ]
     },
     "execution_count": 41,
     "metadata": {},
     "output_type": "execute_result"
    },
    {
     "data": {
      "image/png": "[encoded data removed]",
      "text/plain": [
       "<Figure size 432x288 with 1 Axes>"
      ]
     },
     "metadata": {},
     "output_type": "display_data"
    }
   ],
   "source": [
    "sns.distplot(start_time_sunday.dt.hour, bins=24, kde = False, norm_hist=True)\n"
   ]
  },
  {
   "cell_type": "code",
   "execution_count": 42,
   "id": "64447461",
   "metadata": {},
   "outputs": [
    {
     "data": {
      "text/plain": [
       "0         2016-02-08 00:37:08\n",
       "1         2016-02-08 05:56:20\n",
       "2         2016-02-08 06:15:39\n",
       "3         2016-02-08 06:51:45\n",
       "4         2016-02-08 07:53:43\n",
       "                  ...        \n",
       "2843321   2019-08-19 20:43:02\n",
       "2843322   2019-08-19 20:41:30\n",
       "2843675   2019-08-19 22:18:31\n",
       "2843676   2019-08-19 22:21:28\n",
       "2843677   2019-08-19 22:31:15\n",
       "Name: Start_Time, Length: 419821, dtype: datetime64[ns]"
      ]
     },
     "execution_count": 42,
     "metadata": {},
     "output_type": "execute_result"
    }
   ],
   "source": [
    "start_time_monday = data.Start_Time[data.Start_Time.dt.dayofweek == 0]\n",
    "start_time_monday"
   ]
  },
  {
   "cell_type": "code",
   "execution_count": 43,
   "id": "de4b6c30",
   "metadata": {},
   "outputs": [
    {
     "name": "stderr",
     "output_type": "stream",
     "text": [
      "C:\\Users\\Om SaiRam\\AppData\\Local\\Temp\\ipykernel_61516\\4048812803.py:1: UserWarning: \n",
      "\n",
      "`distplot` is a deprecated function and will be removed in seaborn v0.14.0.\n",
      "\n",
      "Please adapt your code to use either `displot` (a figure-level function with\n",
      "similar flexibility) or `histplot` (an axes-level function for histograms).\n",
      "\n",
      "For a guide to updating your code to use the new functions, please see\n",
      "https://gist.github.com/mwaskom/de44147ed2974457ad6372750bbe5751\n",
      "\n",
      "  sns.distplot(start_time_monday.dt.hour, bins=24, kde = False, norm_hist=True)\n"
     ]
    },
    {
     "data": {
      "text/plain": [
       "<AxesSubplot: xlabel='Start_Time'>"
      ]
     },
     "execution_count": 43,
     "metadata": {},
     "output_type": "execute_result"
    },
    {
     "data": {
      "image/png": "[encoded data removed]",
      "text/plain": [
       "<Figure size 432x288 with 1 Axes>"
      ]
     },
     "metadata": {},
     "output_type": "display_data"
    }
   ],
   "source": [
    "sns.distplot(start_time_monday.dt.hour, bins=24, kde = False, norm_hist=True)\n"
   ]
  },
  {
   "cell_type": "code",
   "execution_count": 44,
   "id": "e38a9779",
   "metadata": {},
   "outputs": [
    {
     "data": {
      "text/plain": [
       "0          40.108910\n",
       "1          39.865420\n",
       "2          39.102660\n",
       "3          41.062130\n",
       "4          39.172393\n",
       "             ...    \n",
       "2845337    34.002480\n",
       "2845338    32.766960\n",
       "2845339    33.775450\n",
       "2845340    33.992460\n",
       "2845341    34.133930\n",
       "Name: Start_Lat, Length: 2845342, dtype: float64"
      ]
     },
     "execution_count": 44,
     "metadata": {},
     "output_type": "execute_result"
    }
   ],
   "source": [
    "data.Start_Lat"
   ]
  },
  {
   "cell_type": "code",
   "execution_count": 45,
   "id": "8b126d11",
   "metadata": {},
   "outputs": [
    {
     "data": {
      "text/plain": [
       "0          -83.092860\n",
       "1          -84.062800\n",
       "2          -84.524680\n",
       "3          -81.537840\n",
       "4          -84.492792\n",
       "              ...    \n",
       "2845337   -117.379360\n",
       "2845338   -117.148060\n",
       "2845339   -117.847790\n",
       "2845340   -118.403020\n",
       "2845341   -117.230920\n",
       "Name: Start_Lng, Length: 2845342, dtype: float64"
      ]
     },
     "execution_count": 45,
     "metadata": {},
     "output_type": "execute_result"
    }
   ],
   "source": [
    "data.Start_Lng"
   ]
  },
  {
   "cell_type": "code",
   "execution_count": 46,
   "id": "4648ed4c",
   "metadata": {},
   "outputs": [
    {
     "data": {
      "text/html": [
       "<div>\n",
       "<style scoped>\n",
       "    .dataframe tbody tr th:only-of-type {\n",
       "        vertical-align: middle;\n",
       "    }\n",
       "\n",
       "    .dataframe tbody tr th {\n",
       "        vertical-align: top;\n",
       "    }\n",
       "\n",
       "    .dataframe thead th {\n",
       "        text-align: right;\n",
       "    }\n",
       "</style>\n",
       "<table border=\"1\" class=\"dataframe\">\n",
       "  <thead>\n",
       "    <tr style=\"text-align: right;\">\n",
       "      <th></th>\n",
       "      <th>ID</th>\n",
       "      <th>Severity</th>\n",
       "      <th>Start_Time</th>\n",
       "      <th>End_Time</th>\n",
       "      <th>Start_Lat</th>\n",
       "      <th>Start_Lng</th>\n",
       "      <th>End_Lat</th>\n",
       "      <th>End_Lng</th>\n",
       "      <th>Distance</th>\n",
       "      <th>Description</th>\n",
       "      <th>...</th>\n",
       "      <th>Give_Way</th>\n",
       "      <th>Junction</th>\n",
       "      <th>No_Exit</th>\n",
       "      <th>Railway</th>\n",
       "      <th>Roundabout</th>\n",
       "      <th>Station</th>\n",
       "      <th>Stop</th>\n",
       "      <th>Traffic_Calming</th>\n",
       "      <th>Traffic_Signal</th>\n",
       "      <th>Turning_Loop</th>\n",
       "    </tr>\n",
       "  </thead>\n",
       "  <tbody>\n",
       "    <tr>\n",
       "      <th>1340102</th>\n",
       "      <td>377897</td>\n",
       "      <td>2</td>\n",
       "      <td>2021-10-22 23:52:07</td>\n",
       "      <td>2021-10-23 01:52:47</td>\n",
       "      <td>33.762214</td>\n",
       "      <td>-79.446533</td>\n",
       "      <td>33.762500</td>\n",
       "      <td>-79.447277</td>\n",
       "      <td>0.047</td>\n",
       "      <td>Incident on LEWIS RD near SC-41 Drive with cau...</td>\n",
       "      <td>...</td>\n",
       "      <td>False</td>\n",
       "      <td>False</td>\n",
       "      <td>False</td>\n",
       "      <td>False</td>\n",
       "      <td>False</td>\n",
       "      <td>False</td>\n",
       "      <td>False</td>\n",
       "      <td>False</td>\n",
       "      <td>False</td>\n",
       "      <td>False</td>\n",
       "    </tr>\n",
       "    <tr>\n",
       "      <th>1365873</th>\n",
       "      <td>406529</td>\n",
       "      <td>2</td>\n",
       "      <td>2021-04-19 06:16:00</td>\n",
       "      <td>2021-04-19 19:11:38</td>\n",
       "      <td>27.871679</td>\n",
       "      <td>-82.745472</td>\n",
       "      <td>27.873554</td>\n",
       "      <td>-82.745524</td>\n",
       "      <td>0.130</td>\n",
       "      <td>Slow traffic from 90th Ave N (Belcher Rd) to F...</td>\n",
       "      <td>...</td>\n",
       "      <td>False</td>\n",
       "      <td>False</td>\n",
       "      <td>False</td>\n",
       "      <td>False</td>\n",
       "      <td>False</td>\n",
       "      <td>True</td>\n",
       "      <td>False</td>\n",
       "      <td>False</td>\n",
       "      <td>False</td>\n",
       "      <td>False</td>\n",
       "    </tr>\n",
       "    <tr>\n",
       "      <th>669553</th>\n",
       "      <td>2478182</td>\n",
       "      <td>2</td>\n",
       "      <td>2021-09-29 19:05:00</td>\n",
       "      <td>2021-09-29 21:09:23.000000000</td>\n",
       "      <td>37.650046</td>\n",
       "      <td>-77.604593</td>\n",
       "      <td>37.649709</td>\n",
       "      <td>-77.608050</td>\n",
       "      <td>0.191</td>\n",
       "      <td>Slow traffic on US-250 W from Brownstone Blvd ...</td>\n",
       "      <td>...</td>\n",
       "      <td>False</td>\n",
       "      <td>False</td>\n",
       "      <td>False</td>\n",
       "      <td>False</td>\n",
       "      <td>False</td>\n",
       "      <td>False</td>\n",
       "      <td>False</td>\n",
       "      <td>False</td>\n",
       "      <td>True</td>\n",
       "      <td>False</td>\n",
       "    </tr>\n",
       "    <tr>\n",
       "      <th>1354819</th>\n",
       "      <td>394248</td>\n",
       "      <td>2</td>\n",
       "      <td>2021-11-16 00:36:30</td>\n",
       "      <td>2021-11-16 01:10:30</td>\n",
       "      <td>33.824444</td>\n",
       "      <td>-84.490564</td>\n",
       "      <td>33.818408</td>\n",
       "      <td>-84.495580</td>\n",
       "      <td>0.507</td>\n",
       "      <td>Stationary traffic on I-285 S - GA-407 S from ...</td>\n",
       "      <td>...</td>\n",
       "      <td>False</td>\n",
       "      <td>False</td>\n",
       "      <td>False</td>\n",
       "      <td>False</td>\n",
       "      <td>False</td>\n",
       "      <td>False</td>\n",
       "      <td>False</td>\n",
       "      <td>False</td>\n",
       "      <td>False</td>\n",
       "      <td>False</td>\n",
       "    </tr>\n",
       "    <tr>\n",
       "      <th>2541617</th>\n",
       "      <td>1712912</td>\n",
       "      <td>4</td>\n",
       "      <td>2019-01-20 17:23:13</td>\n",
       "      <td>2019-01-20 17:53:10</td>\n",
       "      <td>34.256350</td>\n",
       "      <td>-85.118820</td>\n",
       "      <td>34.219384</td>\n",
       "      <td>-85.122488</td>\n",
       "      <td>2.563</td>\n",
       "      <td>Closed at US-411/GA-20/Marvin W Cap Hicks Hwy ...</td>\n",
       "      <td>...</td>\n",
       "      <td>False</td>\n",
       "      <td>False</td>\n",
       "      <td>False</td>\n",
       "      <td>False</td>\n",
       "      <td>False</td>\n",
       "      <td>False</td>\n",
       "      <td>False</td>\n",
       "      <td>False</td>\n",
       "      <td>False</td>\n",
       "      <td>False</td>\n",
       "    </tr>\n",
       "    <tr>\n",
       "      <th>...</th>\n",
       "      <td>...</td>\n",
       "      <td>...</td>\n",
       "      <td>...</td>\n",
       "      <td>...</td>\n",
       "      <td>...</td>\n",
       "      <td>...</td>\n",
       "      <td>...</td>\n",
       "      <td>...</td>\n",
       "      <td>...</td>\n",
       "      <td>...</td>\n",
       "      <td>...</td>\n",
       "      <td>...</td>\n",
       "      <td>...</td>\n",
       "      <td>...</td>\n",
       "      <td>...</td>\n",
       "      <td>...</td>\n",
       "      <td>...</td>\n",
       "      <td>...</td>\n",
       "      <td>...</td>\n",
       "      <td>...</td>\n",
       "      <td>...</td>\n",
       "    </tr>\n",
       "    <tr>\n",
       "      <th>3170</th>\n",
       "      <td>2086567</td>\n",
       "      <td>2</td>\n",
       "      <td>2016-05-10 18:06:53</td>\n",
       "      <td>2016-05-11 00:06:53</td>\n",
       "      <td>37.491100</td>\n",
       "      <td>-122.218630</td>\n",
       "      <td>37.487640</td>\n",
       "      <td>-122.207320</td>\n",
       "      <td>0.665</td>\n",
       "      <td>At CA-84/Woodside Rd/Exit 408 - Accident.</td>\n",
       "      <td>...</td>\n",
       "      <td>False</td>\n",
       "      <td>True</td>\n",
       "      <td>False</td>\n",
       "      <td>False</td>\n",
       "      <td>False</td>\n",
       "      <td>False</td>\n",
       "      <td>False</td>\n",
       "      <td>False</td>\n",
       "      <td>False</td>\n",
       "      <td>False</td>\n",
       "    </tr>\n",
       "    <tr>\n",
       "      <th>2325990</th>\n",
       "      <td>1473326</td>\n",
       "      <td>2</td>\n",
       "      <td>2020-02-03 06:53:00</td>\n",
       "      <td>2020-02-03 07:46:58</td>\n",
       "      <td>37.824861</td>\n",
       "      <td>-122.313611</td>\n",
       "      <td>37.824861</td>\n",
       "      <td>-122.313611</td>\n",
       "      <td>0.000</td>\n",
       "      <td>At Bay Bridge Toll Plz - Accident.</td>\n",
       "      <td>...</td>\n",
       "      <td>False</td>\n",
       "      <td>False</td>\n",
       "      <td>False</td>\n",
       "      <td>False</td>\n",
       "      <td>False</td>\n",
       "      <td>False</td>\n",
       "      <td>False</td>\n",
       "      <td>False</td>\n",
       "      <td>False</td>\n",
       "      <td>False</td>\n",
       "    </tr>\n",
       "    <tr>\n",
       "      <th>1616204</th>\n",
       "      <td>684676</td>\n",
       "      <td>2</td>\n",
       "      <td>2021-02-17 09:45:00</td>\n",
       "      <td>2021-02-17 10:41:30</td>\n",
       "      <td>44.989744</td>\n",
       "      <td>-93.089285</td>\n",
       "      <td>44.977043</td>\n",
       "      <td>-93.088819</td>\n",
       "      <td>0.878</td>\n",
       "      <td>Slow traffic on US-10 E - I-35E S from Larpent...</td>\n",
       "      <td>...</td>\n",
       "      <td>False</td>\n",
       "      <td>False</td>\n",
       "      <td>False</td>\n",
       "      <td>False</td>\n",
       "      <td>False</td>\n",
       "      <td>False</td>\n",
       "      <td>False</td>\n",
       "      <td>False</td>\n",
       "      <td>False</td>\n",
       "      <td>False</td>\n",
       "    </tr>\n",
       "    <tr>\n",
       "      <th>1922501</th>\n",
       "      <td>1025006</td>\n",
       "      <td>2</td>\n",
       "      <td>2020-11-30 23:44:00</td>\n",
       "      <td>2020-12-01 02:52:00</td>\n",
       "      <td>36.855038</td>\n",
       "      <td>-121.570431</td>\n",
       "      <td>36.859915</td>\n",
       "      <td>-121.592805</td>\n",
       "      <td>1.282</td>\n",
       "      <td>Stationary traffic on CA-156 W - US-101 S - El...</td>\n",
       "      <td>...</td>\n",
       "      <td>False</td>\n",
       "      <td>False</td>\n",
       "      <td>False</td>\n",
       "      <td>False</td>\n",
       "      <td>False</td>\n",
       "      <td>False</td>\n",
       "      <td>False</td>\n",
       "      <td>False</td>\n",
       "      <td>False</td>\n",
       "      <td>False</td>\n",
       "    </tr>\n",
       "    <tr>\n",
       "      <th>2111201</th>\n",
       "      <td>1234674</td>\n",
       "      <td>2</td>\n",
       "      <td>2020-05-11 21:00:20</td>\n",
       "      <td>2020-05-11 22:20:18</td>\n",
       "      <td>29.441360</td>\n",
       "      <td>-98.513150</td>\n",
       "      <td>29.441360</td>\n",
       "      <td>-98.513150</td>\n",
       "      <td>0.000</td>\n",
       "      <td>At Colorado St/Exit 569 - Accident. Left lane ...</td>\n",
       "      <td>...</td>\n",
       "      <td>False</td>\n",
       "      <td>True</td>\n",
       "      <td>False</td>\n",
       "      <td>False</td>\n",
       "      <td>False</td>\n",
       "      <td>False</td>\n",
       "      <td>False</td>\n",
       "      <td>False</td>\n",
       "      <td>False</td>\n",
       "      <td>False</td>\n",
       "    </tr>\n",
       "  </tbody>\n",
       "</table>\n",
       "<p>284534 rows × 40 columns</p>\n",
       "</div>"
      ],
      "text/plain": [
       "              ID  Severity          Start_Time                       End_Time  \\\n",
       "1340102   377897         2 2021-10-22 23:52:07            2021-10-23 01:52:47   \n",
       "1365873   406529         2 2021-04-19 06:16:00            2021-04-19 19:11:38   \n",
       "669553   2478182         2 2021-09-29 19:05:00  2021-09-29 21:09:23.000000000   \n",
       "1354819   394248         2 2021-11-16 00:36:30            2021-11-16 01:10:30   \n",
       "2541617  1712912         4 2019-01-20 17:23:13            2019-01-20 17:53:10   \n",
       "...          ...       ...                 ...                            ...   \n",
       "3170     2086567         2 2016-05-10 18:06:53            2016-05-11 00:06:53   \n",
       "2325990  1473326         2 2020-02-03 06:53:00            2020-02-03 07:46:58   \n",
       "1616204   684676         2 2021-02-17 09:45:00            2021-02-17 10:41:30   \n",
       "1922501  1025006         2 2020-11-30 23:44:00            2020-12-01 02:52:00   \n",
       "2111201  1234674         2 2020-05-11 21:00:20            2020-05-11 22:20:18   \n",
       "\n",
       "         Start_Lat   Start_Lng    End_Lat     End_Lng  Distance  \\\n",
       "1340102  33.762214  -79.446533  33.762500  -79.447277     0.047   \n",
       "1365873  27.871679  -82.745472  27.873554  -82.745524     0.130   \n",
       "669553   37.650046  -77.604593  37.649709  -77.608050     0.191   \n",
       "1354819  33.824444  -84.490564  33.818408  -84.495580     0.507   \n",
       "2541617  34.256350  -85.118820  34.219384  -85.122488     2.563   \n",
       "...            ...         ...        ...         ...       ...   \n",
       "3170     37.491100 -122.218630  37.487640 -122.207320     0.665   \n",
       "2325990  37.824861 -122.313611  37.824861 -122.313611     0.000   \n",
       "1616204  44.989744  -93.089285  44.977043  -93.088819     0.878   \n",
       "1922501  36.855038 -121.570431  36.859915 -121.592805     1.282   \n",
       "2111201  29.441360  -98.513150  29.441360  -98.513150     0.000   \n",
       "\n",
       "                                               Description  ...  Give_Way  \\\n",
       "1340102  Incident on LEWIS RD near SC-41 Drive with cau...  ...     False   \n",
       "1365873  Slow traffic from 90th Ave N (Belcher Rd) to F...  ...     False   \n",
       "669553   Slow traffic on US-250 W from Brownstone Blvd ...  ...     False   \n",
       "1354819  Stationary traffic on I-285 S - GA-407 S from ...  ...     False   \n",
       "2541617  Closed at US-411/GA-20/Marvin W Cap Hicks Hwy ...  ...     False   \n",
       "...                                                    ...  ...       ...   \n",
       "3170             At CA-84/Woodside Rd/Exit 408 - Accident.  ...     False   \n",
       "2325990                 At Bay Bridge Toll Plz - Accident.  ...     False   \n",
       "1616204  Slow traffic on US-10 E - I-35E S from Larpent...  ...     False   \n",
       "1922501  Stationary traffic on CA-156 W - US-101 S - El...  ...     False   \n",
       "2111201  At Colorado St/Exit 569 - Accident. Left lane ...  ...     False   \n",
       "\n",
       "         Junction No_Exit  Railway Roundabout Station   Stop  Traffic_Calming  \\\n",
       "1340102     False   False    False      False   False  False            False   \n",
       "1365873     False   False    False      False    True  False            False   \n",
       "669553      False   False    False      False   False  False            False   \n",
       "1354819     False   False    False      False   False  False            False   \n",
       "2541617     False   False    False      False   False  False            False   \n",
       "...           ...     ...      ...        ...     ...    ...              ...   \n",
       "3170         True   False    False      False   False  False            False   \n",
       "2325990     False   False    False      False   False  False            False   \n",
       "1616204     False   False    False      False   False  False            False   \n",
       "1922501     False   False    False      False   False  False            False   \n",
       "2111201      True   False    False      False   False  False            False   \n",
       "\n",
       "         Traffic_Signal  Turning_Loop  \n",
       "1340102           False         False  \n",
       "1365873           False         False  \n",
       "669553             True         False  \n",
       "1354819           False         False  \n",
       "2541617           False         False  \n",
       "...                 ...           ...  \n",
       "3170              False         False  \n",
       "2325990           False         False  \n",
       "1616204           False         False  \n",
       "1922501           False         False  \n",
       "2111201           False         False  \n",
       "\n",
       "[284534 rows x 40 columns]"
      ]
     },
     "execution_count": 46,
     "metadata": {},
     "output_type": "execute_result"
    }
   ],
   "source": [
    "#10% sample of the total data\n",
    "sample_df = data.sample(int(0.1 * len(data)))\n",
    "sample_df"
   ]
  },
  {
   "cell_type": "code",
   "execution_count": 47,
   "id": "3dbe690c",
   "metadata": {},
   "outputs": [
    {
     "data": {
      "text/plain": [
       "<AxesSubplot: xlabel='Start_Lng', ylabel='Start_Lat'>"
      ]
     },
     "execution_count": 47,
     "metadata": {},
     "output_type": "execute_result"
    },
    {
     "data": {
      "image/png": "[encoded data removed]",
      "text/plain": [
       "<Figure size 432x288 with 1 Axes>"
      ]
     },
     "metadata": {},
     "output_type": "display_data"
    }
   ],
   "source": [
    "#longitude = left to right and latitude = top to bottom\n",
    "#point size = 0.001\n",
    "sns.scatterplot(x=sample_df.Start_Lng, y = sample_df.Start_Lat, size = 0.001 )"
   ]
  },
  {
   "cell_type": "code",
   "execution_count": 48,
   "id": "76715e3e",
   "metadata": {},
   "outputs": [
    {
     "data": {
      "text/plain": [
       "(40.10891, -83.09286)"
      ]
     },
     "execution_count": 48,
     "metadata": {},
     "output_type": "execute_result"
    }
   ],
   "source": [
    "lat, lon = data.Start_Lat[0], data.Start_Lng[0]\n",
    "lat, lon"
   ]
  },
  {
   "cell_type": "code",
   "execution_count": 49,
   "id": "a2b22aac",
   "metadata": {},
   "outputs": [
    {
     "name": "stdout",
     "output_type": "stream",
     "text": [
      "402361     38.495482\n",
      "1935806    34.056516\n",
      "458073     37.723283\n",
      "1592330    33.727957\n",
      "1205199    28.326695\n",
      "             ...    \n",
      "426821     42.773739\n",
      "2703452    43.172904\n",
      "1635117    45.690883\n",
      "2069924    38.555870\n",
      "1121263    37.578381\n",
      "Name: Start_Lat, Length: 100, dtype: float64\n",
      "402361     -77.383796\n",
      "1935806    -81.130787\n",
      "458073    -121.647458\n",
      "1592330    -78.952608\n",
      "1205199    -81.489712\n",
      "              ...    \n",
      "426821     -92.337435\n",
      "2703452    -71.551941\n",
      "1635117   -121.772821\n",
      "2069924   -121.442390\n",
      "1121263    -77.466713\n",
      "Name: Start_Lng, Length: 100, dtype: float64\n"
     ]
    },
    {
     "name": "stderr",
     "output_type": "stream",
     "text": [
      "C:\\Users\\Om SaiRam\\AppData\\Local\\Temp\\ipykernel_61516\\343975538.py:2: FutureWarning: iteritems is deprecated and will be removed in a future version. Use .items instead.\n",
      "  for x in data[['Start_Lat', 'Start_Lng']].sample(100).iteritems():\n"
     ]
    }
   ],
   "source": [
    "#iterate column-wise\n",
    "for x in data[['Start_Lat', 'Start_Lng']].sample(100).iteritems():\n",
    "    print(x[1])"
   ]
  },
  {
   "cell_type": "code",
   "execution_count": 50,
   "id": "daa75822",
   "metadata": {},
   "outputs": [
    {
     "data": {
      "text/plain": [
       "<AxesSubplot: xlabel='Visibility', ylabel='Count'>"
      ]
     },
     "execution_count": 50,
     "metadata": {},
     "output_type": "execute_result"
    },
    {
     "data": {
      "image/png": "[encoded data removed]",
      "text/plain": [
       "<Figure size 432x288 with 1 Axes>"
      ]
     },
     "metadata": {},
     "output_type": "display_data"
    }
   ],
   "source": [
    "sns.histplot(data['Visibility'].value_counts(), bins= 5, kde=True, log_scale=True)"
   ]
  },
  {
   "cell_type": "code",
   "execution_count": 51,
   "id": "a144f436",
   "metadata": {},
   "outputs": [
    {
     "data": {
      "text/plain": [
       "<AxesSubplot: ylabel='Crossing'>"
      ]
     },
     "execution_count": 51,
     "metadata": {},
     "output_type": "execute_result"
    },
    {
     "data": {
      "image/png": "[encoded data removed]",
      "text/plain": [
       "<Figure size 432x288 with 1 Axes>"
      ]
     },
     "metadata": {},
     "output_type": "display_data"
    }
   ],
   "source": [
    "data['Crossing'].value_counts().plot(kind= 'pie')"
   ]
  },
  {
   "cell_type": "code",
   "execution_count": 52,
   "id": "fc291eef",
   "metadata": {},
   "outputs": [
    {
     "data": {
      "text/plain": [
       "<AxesSubplot: ylabel='Traffic_Signal'>"
      ]
     },
     "execution_count": 52,
     "metadata": {},
     "output_type": "execute_result"
    },
    {
     "data": {
      "image/png": "[encoded data removed]",
      "text/plain": [
       "<Figure size 432x288 with 1 Axes>"
      ]
     },
     "metadata": {},
     "output_type": "display_data"
    }
   ],
   "source": [
    "data['Traffic_Signal'].value_counts().plot(kind='pie')\n"
   ]
  },
  {
   "cell_type": "code",
   "execution_count": 65,
   "id": "d93cee53",
   "metadata": {},
   "outputs": [
    {
     "name": "stdout",
     "output_type": "stream",
     "text": [
      "<class 'pandas.core.frame.DataFrame'>\n",
      "RangeIndex: 2845342 entries, 0 to 2845341\n",
      "Data columns (total 40 columns):\n",
      " #   Column             Dtype         \n",
      "---  ------             -----         \n",
      " 0   ID                 int32         \n",
      " 1   Severity           int64         \n",
      " 2   Start_Time         datetime64[ns]\n",
      " 3   End_Time           object        \n",
      " 4   Start_Lat          float64       \n",
      " 5   Start_Lng          float64       \n",
      " 6   End_Lat            float64       \n",
      " 7   End_Lng            float64       \n",
      " 8   Distance           float64       \n",
      " 9   Description        object        \n",
      " 10  Number             float64       \n",
      " 11  Street             int32         \n",
      " 12  Side               object        \n",
      " 13  City               int32         \n",
      " 14  County             object        \n",
      " 15  State              object        \n",
      " 16  Country            object        \n",
      " 17  Timezone           int32         \n",
      " 18  Temperature        float64       \n",
      " 19  Wind_Chill         float64       \n",
      " 20  Humidity           float64       \n",
      " 21  Pressure           float64       \n",
      " 22  Visibility         float64       \n",
      " 23  Wind_Direction     int32         \n",
      " 24  Wind_Speed         float64       \n",
      " 25  Precipitation      float64       \n",
      " 26  Weather_Condition  int32         \n",
      " 27  Amenity            bool          \n",
      " 28  Bump               bool          \n",
      " 29  Crossing           bool          \n",
      " 30  Give_Way           bool          \n",
      " 31  Junction           bool          \n",
      " 32  No_Exit            bool          \n",
      " 33  Railway            bool          \n",
      " 34  Roundabout         bool          \n",
      " 35  Station            bool          \n",
      " 36  Stop               bool          \n",
      " 37  Traffic_Calming    bool          \n",
      " 38  Traffic_Signal     bool          \n",
      " 39  Turning_Loop       bool          \n",
      "dtypes: bool(13), datetime64[ns](1), float64(13), int32(6), int64(1), object(6)\n",
      "memory usage: 556.3+ MB\n"
     ]
    }
   ],
   "source": [
    "data.info()"
   ]
  },
  {
   "cell_type": "code",
   "execution_count": 70,
   "id": "12848438",
   "metadata": {},
   "outputs": [
    {
     "data": {
      "text/plain": [
       "-1"
      ]
     },
     "execution_count": 70,
     "metadata": {},
     "output_type": "execute_result"
    }
   ],
   "source": [
    "data.to_sql(con = engine, name = 'dataset', if_exists = 'replace')"
   ]
  }
 ],
 "metadata": {
  "kernelspec": {
   "display_name": "Python 3 (ipykernel)",
   "language": "python",
   "name": "python3"
  },
  "language_info": {
   "codemirror_mode": {
    "name": "ipython",
    "version": 3
   },
   "file_extension": ".py",
   "mimetype": "text/x-python",
   "name": "python",
   "nbconvert_exporter": "python",
   "pygments_lexer": "ipython3",
   "version": "3.10.4"
  }
 },
 "nbformat": 4,
 "nbformat_minor": 5
}
